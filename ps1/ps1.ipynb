{
 "cells": [
  {
   "cell_type": "markdown",
   "metadata": {},
   "source": [
    "Before you turn this problem in, make sure everything runs as expected. First, **restart the kernel** (in the menubar, select Kernel$\\rightarrow$Restart) and then **run all cells** (in the menubar, select Cell$\\rightarrow$Run All).\n",
    "\n",
    "Make sure you fill in any place that says `YOUR CODE HERE` or \"YOUR ANSWER HERE\", as well as your name and collaborators below:"
   ]
  },
  {
   "cell_type": "code",
   "execution_count": null,
   "metadata": {},
   "outputs": [],
   "source": [
    "NAME = \"\"  # your uniqname \n",
    "COLLABORATORS = c()  # vector of uniqnames of your collaborators, if any\n",
    "## IMPORTANT: also enter your group information in Canvas when you upload the assignment"
   ]
  },
  {
   "cell_type": "markdown",
   "metadata": {},
   "source": [
    "---"
   ]
  },
  {
   "cell_type": "code",
   "execution_count": null,
   "metadata": {},
   "outputs": [],
   "source": [
    "library(tidyverse)"
   ]
  },
  {
   "cell_type": "markdown",
   "metadata": {},
   "source": [
    "# STATS 306\n",
    "## Problem set 1: plotting with `ggplot`"
   ]
  },
  {
   "cell_type": "markdown",
   "metadata": {},
   "source": [
    "## Part 1\n",
    "\n",
    "### Factors\n",
    "Factors are used in R to represent discrete or categorical variables. We will discuss factors at greater length later in the course. This exercise is designed to show you how `ggplot` handles factors when plotting data."
   ]
  },
  {
   "cell_type": "markdown",
   "metadata": {},
   "source": [
    "Use the `tribble()` command to re-create the following small data table. (See the lecture 02 notes for an example of how to use this commmand.) Store your table in a variable called `toy_table`:\n",
    "\n",
    "```\n",
    "# A tibble: 4 x 2\n",
    "      x     y\n",
    "  <chr> <dbl>\n",
    "1     a     1\n",
    "2     b     2\n",
    "3     c     4\n",
    "4     d     5\n",
    "```"
   ]
  },
  {
   "cell_type": "code",
   "execution_count": null,
   "metadata": {
    "deletable": false,
    "nbgrader": {
     "checksum": "58804d4b3ca69c6e36d966c740bdad6e",
     "grade": false,
     "grade_id": "cell-b6fa145356d4715f",
     "locked": false,
     "schema_version": 1,
     "solution": true
    }
   },
   "outputs": [],
   "source": [
    "# YOUR CODE HERE\n",
    "stop()"
   ]
  },
  {
   "cell_type": "code",
   "execution_count": null,
   "metadata": {
    "deletable": false,
    "editable": false,
    "nbgrader": {
     "checksum": "7d2c8e70ff82207061a7afa99d794400",
     "grade": true,
     "grade_id": "cell-4181a78332fea946",
     "locked": true,
     "points": 1,
     "schema_version": 1,
     "solution": false
    }
   },
   "outputs": [],
   "source": []
  },
  {
   "cell_type": "markdown",
   "metadata": {},
   "source": [
    "Use `ggplot` to generate the following plot from `toy_table`:\n",
    "![toy table plot](toy_table.svg)"
   ]
  },
  {
   "cell_type": "code",
   "execution_count": null,
   "metadata": {
    "deletable": false,
    "nbgrader": {
     "checksum": "3b2639c7c8edc1f049d5afc7950754c9",
     "grade": true,
     "grade_id": "cell-e5be9f5bc20aaa43",
     "locked": false,
     "points": 1,
     "schema_version": 1,
     "solution": true
    }
   },
   "outputs": [],
   "source": [
    "# YOUR CODE HERE\n",
    "stop()"
   ]
  },
  {
   "cell_type": "markdown",
   "metadata": {},
   "source": [
    "Suppose that we want to change the ordering of the $x$-axis to be `d c b a`. To do this we need to convert $x$ to a factor and reorder its levels. The syntax for doing this is \n",
    "```{r}\n",
    "factor(x, levels=c('d','c','b','a'))\n",
    "```\n",
    "This produces the following plot:\n",
    "![toy table releveled](toy_table_relevel.svg)"
   ]
  },
  {
   "cell_type": "markdown",
   "metadata": {},
   "source": [
    "Use this technique to produce a plot where the bars are ordered `c,a,b,d':"
   ]
  },
  {
   "cell_type": "code",
   "execution_count": null,
   "metadata": {
    "deletable": false,
    "nbgrader": {
     "checksum": "8a3eb9f6edcf74bd12fbd55fb9d54b86",
     "grade": true,
     "grade_id": "cell-01137c5c18ccf423",
     "locked": false,
     "points": 1,
     "schema_version": 1,
     "solution": true
    }
   },
   "outputs": [],
   "source": [
    "# YOUR CODE HERE\n",
    "stop()"
   ]
  },
  {
   "cell_type": "markdown",
   "metadata": {},
   "source": [
    "## Part 2\n",
    "For each of the plots shown below, enter the R code in the cell provided which *exactly reproduces* the plot. (Your could should print this plot in the notebook.)"
   ]
  },
  {
   "cell_type": "markdown",
   "metadata": {},
   "source": [
    "### Plot 1\n",
    "![auto plot](p1.svg)"
   ]
  },
  {
   "cell_type": "code",
   "execution_count": null,
   "metadata": {
    "deletable": false,
    "nbgrader": {
     "checksum": "e4895e49b398db7995122484aca24dc1",
     "grade": true,
     "grade_id": "cell-da4bcad8fc9765c4",
     "locked": false,
     "points": 4,
     "schema_version": 1,
     "solution": true
    }
   },
   "outputs": [],
   "source": [
    "# YOUR CODE HERE\n",
    "stop()"
   ]
  },
  {
   "cell_type": "markdown",
   "metadata": {},
   "source": [
    "## Plot 2\n",
    "This is using the `midwest` data set which we discussed at the end of lecture 02.\n",
    "![plot two](p2.svg)"
   ]
  },
  {
   "cell_type": "code",
   "execution_count": null,
   "metadata": {
    "deletable": false,
    "nbgrader": {
     "checksum": "48c7a67f99d3964782fd2d596c1985fd",
     "grade": true,
     "grade_id": "cell-02c11cecd1722b2c",
     "locked": false,
     "points": 4,
     "schema_version": 1,
     "solution": true
    }
   },
   "outputs": [],
   "source": [
    "# YOUR CODE HERE\n",
    "stop()"
   ]
  },
  {
   "cell_type": "markdown",
   "metadata": {},
   "source": [
    "### Plot 3\n",
    "(Hint: for this plot, you will need to manually manipulate the ticks on the $y$-axis using the `breaks=` option of the appropriate `scale_y` command.)\n",
    "![diamonds plot](p3.svg)\n"
   ]
  },
  {
   "cell_type": "code",
   "execution_count": null,
   "metadata": {
    "deletable": false,
    "nbgrader": {
     "checksum": "289c3544f04290c518e62c89a59b7287",
     "grade": true,
     "grade_id": "cell-c12f2f98e8791d28",
     "locked": false,
     "points": 4,
     "schema_version": 1,
     "solution": true
    }
   },
   "outputs": [],
   "source": [
    "# YOUR CODE HERE\n",
    "stop()"
   ]
  },
  {
   "cell_type": "markdown",
   "metadata": {},
   "source": [
    "## Plot 4\n",
    "In lecture 00 we looked at a database on flights in New York City in 2013. This data set is not part of the `tidyverse` package. You may need to install it using the command:\n",
    "```{r}\n",
    "install.packages('nycflights13')\n",
    "``` \n",
    "![plot four](p4.svg)\n",
    "This plots is average delay time by carrier for the top five carriers. Because we have not yet covered the material needed to compute such an average, the code that does this has been provided for you. Use the resulting dataset, `flights_top5`, to generate the plot."
   ]
  },
  {
   "cell_type": "code",
   "execution_count": null,
   "metadata": {},
   "outputs": [],
   "source": [
    "library(nycflights13)\n",
    "top5_carriers = group_by(flights, carrier) %>% summarize(departures=n()) %>% \n",
    "                ungroup() %>% top_n(5)\n",
    "flights_top5 =  filter(flights, carrier %in% top5_carriers$carrier) %>% \n",
    "                filter(dep_delay>0) %>% group_by(carrier, month) %>% \n",
    "                summarize(mean_dep_delay=mean(dep_delay))"
   ]
  },
  {
   "cell_type": "code",
   "execution_count": null,
   "metadata": {
    "deletable": false,
    "nbgrader": {
     "checksum": "a37a356aed24edb05c6d36faacbde8b1",
     "grade": true,
     "grade_id": "cell-91d48d607ea6ea53",
     "locked": false,
     "points": 4,
     "schema_version": 1,
     "solution": true
    }
   },
   "outputs": [],
   "source": [
    "# YOUR CODE HERE\n",
    "stop()"
   ]
  }
 ],
 "metadata": {
  "kernelspec": {
   "display_name": "R",
   "language": "R",
   "name": "ir"
  },
  "language_info": {
   "codemirror_mode": "r",
   "file_extension": ".r",
   "mimetype": "text/x-r-source",
   "name": "R",
   "pygments_lexer": "r",
   "version": "3.4.3"
  }
 },
 "nbformat": 4,
 "nbformat_minor": 2
}
