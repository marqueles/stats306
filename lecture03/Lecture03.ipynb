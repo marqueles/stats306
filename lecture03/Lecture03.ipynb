{
 "cells": [
  {
   "cell_type": "markdown",
   "metadata": {
    "slideshow": {
     "slide_type": "slide"
    }
   },
   "source": [
    "# Lecture 03: Coding standards and data transformation\n",
    "In this lecture, we will cover R4DS chapters 4 and 5.1-5.4:\n",
    "\n",
    "* [Coding standards](#Coding-standards)\n",
    "* [How to manipulate data](#Data-manipulation):\n",
    "    * [Filtering data](#Filtering-data)\n",
    "    * [Arranging (sorting) rows](#Arranging-rows)\n",
    "    * [Selecting columns](#Selecting-columns)"
   ]
  },
  {
   "cell_type": "markdown",
   "metadata": {
    "slideshow": {
     "slide_type": "slide"
    }
   },
   "source": [
    "## Coding standards\n",
    "Now that you've had a chance to write some R code, let's circle back and think about some aspects of writing *clean and legible* R code."
   ]
  },
  {
   "cell_type": "markdown",
   "metadata": {
    "slideshow": {
     "slide_type": "slide"
    }
   },
   "source": [
    "### Variables\n",
    "Variables in R must start with a letter, and can contain letters, numbers and some punctuation:\n",
    "```{r}\n",
    "> variable = 1\n",
    "> AnotherVariable <- 2\n",
    "> variable3 = 3\n",
    "> fourth.variable <- 4\n",
    "> 1nvalid_variable = 5\n",
    "Error: unexpected symbol in \"1nvalid_variable\"\n",
    "```\n",
    "Notice that we mixed two assignment operators: `=` and `<-`. They are equivalent. The arrow notation is peculiar to R. Choosing which one to use is a matter of personal preference."
   ]
  },
  {
   "cell_type": "markdown",
   "metadata": {
    "slideshow": {
     "slide_type": "slide"
    }
   },
   "source": [
    "### Naming\n",
    "There are variable styles for naming variables in R. The authors and I prefer \"snake case\", which means all lower case with underscores substituted for spaces:\n",
    "```{r}\n",
    "i_use_snake_case\n",
    "otherPeopleUseCamelCase\n",
    "some.people.use.periods\n",
    "And_aFew.People_RENOUNCEconvention\n",
    "```\n",
    "This is again a matter of personal preference. The period notation is again peculiar to R, since most other languages do not let you have periods in variable names (they reserve that for OOP method calls.) The most important thing is that you be consistent."
   ]
  },
  {
   "cell_type": "markdown",
   "metadata": {
    "slideshow": {
     "slide_type": "slide"
    }
   },
   "source": [
    "### Calling functions\n",
    "As you saw with `ggplot`, there are several ways to pass function parameters in R. The first and most common way is to rely on the default ordering of the function:\n",
    "- if you do not pass parameter names, then R will assume that you have given the parameters in the order in which they appear in the function definition.\n",
    "- if you pass parameter names, then R will do what you expect.\n",
    "\n",
    "It's also possible to mix named and un-named parameters, although this is usually not advisable as it's easy to make mistakes."
   ]
  },
  {
   "cell_type": "code",
   "execution_count": 65,
   "metadata": {
    "slideshow": {
     "slide_type": "slide"
    }
   },
   "outputs": [
    {
     "data": {
      "text/plain": [
       "[1] 8"
      ]
     },
     "metadata": {},
     "output_type": "display_data"
    },
    {
     "data": {
      "text/plain": [
       "[1] 8"
      ]
     },
     "metadata": {},
     "output_type": "display_data"
    },
    {
     "data": {
      "text/plain": [
       "[1] 8"
      ]
     },
     "metadata": {},
     "output_type": "display_data"
    },
    {
     "data": {
      "text/plain": [
       "[1] 9"
      ]
     },
     "metadata": {},
     "output_type": "display_data"
    },
    {
     "data": {
      "text/plain": [
       "[1] 9"
      ]
     },
     "metadata": {},
     "output_type": "display_data"
    },
    {
     "data": {
      "text/plain": [
       "[1] 27"
      ]
     },
     "metadata": {},
     "output_type": "display_data"
    }
   ],
   "source": [
    "f = function(a, b) a^b\n",
    "f(2, 3)      # computes 2^3 = 8\n",
    "f(a=2, b=3)  # same\n",
    "f(b=3, a=2)  # same\n",
    "f(3, 2)      # not same: computes 3^2 = 9\n",
    "f(3, b=2)    # same\n",
    "f(3, a=3)    # tricky"
   ]
  },
  {
   "cell_type": "markdown",
   "metadata": {
    "slideshow": {
     "slide_type": "notes"
    }
   },
   "source": [
    "## Data manipulation\n",
    "Manipulating data is an important part of data science, and there are a lot of built-in commands for doing it in R:\n",
    "```{r}\n",
    "# Traditional data manipulation commands in R\n",
    "subset()\n",
    "aggregate()\n",
    "merge()\n",
    "reshape()\n",
    "```\n",
    "These commands are old and somewhat difficult to use. Instead of the traditional commands, we are going to focus on the `dplyr` package for filtering data. They provide a nice suite of replacements for the traditional commands, which have a consistent, unified interface and interoperate nicely with each other.\n",
    "\n",
    "As usual, loading the tidyverse will automatically pull in the necessary packages."
   ]
  },
  {
   "cell_type": "code",
   "execution_count": 66,
   "metadata": {
    "slideshow": {
     "slide_type": "notes"
    }
   },
   "outputs": [],
   "source": [
    "library(tidyverse)\n",
    "library(nycflights13)"
   ]
  },
  {
   "cell_type": "code",
   "execution_count": 67,
   "metadata": {
    "slideshow": {
     "slide_type": "slide"
    }
   },
   "outputs": [
    {
     "name": "stdout",
     "output_type": "stream",
     "text": [
      "# A tibble: 336,776 x 19\n",
      "    year month   day dep_time sched_dep_time dep_delay arr_time sched_arr_time\n",
      "   <int> <int> <int>    <int>          <int>     <dbl>    <int>          <int>\n",
      " 1  2013     1     1      517            515         2      830            819\n",
      " 2  2013     1     1      533            529         4      850            830\n",
      " 3  2013     1     1      542            540         2      923            850\n",
      " 4  2013     1     1      544            545        -1     1004           1022\n",
      " 5  2013     1     1      554            600        -6      812            837\n",
      " 6  2013     1     1      554            558        -4      740            728\n",
      " 7  2013     1     1      555            600        -5      913            854\n",
      " 8  2013     1     1      557            600        -3      709            723\n",
      " 9  2013     1     1      557            600        -3      838            846\n",
      "10  2013     1     1      558            600        -2      753            745\n",
      "# ... with 336,766 more rows, and 11 more variables: arr_delay <dbl>,\n",
      "#   carrier <chr>, flight <int>, tailnum <chr>, origin <chr>, dest <chr>,\n",
      "#   air_time <dbl>, distance <dbl>, hour <dbl>, minute <dbl>, time_hour <dttm>\n"
     ]
    }
   ],
   "source": [
    "print(flights)"
   ]
  },
  {
   "cell_type": "markdown",
   "metadata": {
    "slideshow": {
     "slide_type": "notes"
    }
   },
   "source": [
    "Notice the types of the variables above. They include:\n",
    "\n",
    "* **int** integers\n",
    "* **dbl** double precision floating point numbers\n",
    "* **chr** character vectors, or strings\n",
    "* **dttm** date-time (a date along with a time)\n",
    "\n",
    "Other types available in R but not represented above include:\n",
    "\n",
    "* **lgl** logical (either `TRUE` or `FALSE`)\n",
    "* **fctr** factor (categorical variable with a fixed number of possible values)\n",
    "* **date** date"
   ]
  },
  {
   "cell_type": "markdown",
   "metadata": {
    "slideshow": {
     "slide_type": "slide"
    }
   },
   "source": [
    "### Filtering data\n",
    "The first operation we'll learn about is filtering. Filtering is interpereted to mean \"keep only the rows which match these criteria\". The syntax for the `filter` command is \n",
    "```{r}\n",
    "filter(<TIBBLE>, <LOGICAL CRITERIA>)\n",
    "```\n",
    "This commands returns a new tibble whose rows all match the specified criteria."
   ]
  },
  {
   "cell_type": "markdown",
   "metadata": {
    "slideshow": {
     "slide_type": "slide"
    }
   },
   "source": [
    "#### Types of logical criteria\n",
    "For those who are new to programming, we now briefly review the sorts of logical operations that you can specify for commands like `filter()`. The basic logical operators in R are `>`, `>=`, `<`, `<=`, `!=` (not equal), and `==` (equal). The first four are used for comparing numbers and function exactly as in mathematics:\n",
    "```{r}\n",
    "> 1 > 1\n",
    "[1] FALSE\n",
    "> 1 >= 1\n",
    "[1] TRUE\n",
    "> 2.5 < 3\n",
    "[1] TRUE\n",
    "> 2.5 <= 3\n",
    "[1] TRUE\n",
    "```"
   ]
  },
  {
   "cell_type": "markdown",
   "metadata": {
    "slideshow": {
     "slide_type": "notes"
    }
   },
   "source": [
    "The operators `=` and `!=` test for equality. This can be a bit more subtle:\n",
    "```{r}\n",
    "> 1 == \"1\"\n",
    "[1] TRUE\n",
    "> 1 == 1.0\n",
    "[1] TRUE\n",
    "> \"1.0\" == \"1\"\n",
    "[1] FALSE\n",
    "```\n",
    "The first test succeeds because R converts the integer `1` to a string in order to test for equality with the string `\"1\"`. The second succeeds because R converts the integer `1` to a numeric (float) in order to test for equality with the numeric `1.0`. The third test fails because `\"1.0\"` and `\"1\"` are different when considered as strings."
   ]
  },
  {
   "cell_type": "markdown",
   "metadata": {
    "slideshow": {
     "slide_type": "notes"
    }
   },
   "source": [
    "#### Assignment vs. equality\n",
    "An extremely common mistake for beginner programmers is to confuse `=` and `==` when writing code. As we have seen,\n",
    "- `=` is used for\n",
    "    - assigning a value to a variable, and\n",
    "    - passing a named parameter into a function. \n",
    "- `==` is used for testing equality. \n",
    "\n",
    "The following statements illustrate the differences:"
   ]
  },
  {
   "cell_type": "markdown",
   "metadata": {
    "slideshow": {
     "slide_type": "slide"
    }
   },
   "source": [
    "\n",
    "```{r}\n",
    "> a = 1  # assigns the integer 1 to a\n",
    "> b = 2  # assigns the integer 2 to b\n",
    "> a == 1 # tests that a equals 1\n",
    "[1] TRUE\n",
    "> b == 1 # tests that b equals 1\n",
    "[1] FALSE\n",
    "> f(a=1, b=2)  # calls the function f with named arguments\n",
    "> f(a==1, b==2) # same as f(TRUE, TRUE)\n",
    "[1] 1\n",
    "```\n",
    "Can you explain the return value in the last line?\n"
   ]
  },
  {
   "cell_type": "markdown",
   "metadata": {
    "slideshow": {
     "slide_type": "slide"
    }
   },
   "source": [
    "#### Boolean operations\n",
    "Logical expressions are combined using *boolean operations*. The basic boolean operations are `and`, `or`, and `not`, denoted `&`, `|` and `!` respectively.\n"
   ]
  },
  {
   "cell_type": "code",
   "execution_count": 68,
   "metadata": {
    "slideshow": {
     "slide_type": "fragment"
    }
   },
   "outputs": [
    {
     "data": {
      "text/plain": [
       "[1] FALSE"
      ]
     },
     "metadata": {},
     "output_type": "display_data"
    }
   ],
   "source": [
    "TRUE & FALSE"
   ]
  },
  {
   "cell_type": "code",
   "execution_count": 69,
   "metadata": {
    "slideshow": {
     "slide_type": "fragment"
    }
   },
   "outputs": [
    {
     "data": {
      "text/plain": [
       "[1] TRUE"
      ]
     },
     "metadata": {},
     "output_type": "display_data"
    }
   ],
   "source": [
    "FALSE | TRUE"
   ]
  },
  {
   "cell_type": "code",
   "execution_count": 70,
   "metadata": {
    "slideshow": {
     "slide_type": "fragment"
    }
   },
   "outputs": [
    {
     "data": {
      "text/plain": [
       "[1] FALSE"
      ]
     },
     "metadata": {},
     "output_type": "display_data"
    }
   ],
   "source": [
    "! TRUE"
   ]
  },
  {
   "cell_type": "markdown",
   "metadata": {
    "slideshow": {
     "slide_type": "notes"
    }
   },
   "source": [
    "There are also doubled versions of `&` and `|` denoted `&&` and `||`. Do not use them here. We will return to these later in the course."
   ]
  },
  {
   "cell_type": "markdown",
   "metadata": {
    "slideshow": {
     "slide_type": "slide"
    }
   },
   "source": [
    "Two other less common logical operators are `xor` and `%in%`:\n",
    "* `xor(x, y)` `TRUE` iff exactly one of x and y is `TRUE`\n",
    "* `x %in% y`:"
   ]
  },
  {
   "cell_type": "code",
   "execution_count": 71,
   "metadata": {
    "slideshow": {
     "slide_type": "fragment"
    }
   },
   "outputs": [
    {
     "data": {
      "text/plain": [
       "[1] FALSE"
      ]
     },
     "metadata": {},
     "output_type": "display_data"
    }
   ],
   "source": [
    "xor(TRUE, TRUE)"
   ]
  },
  {
   "cell_type": "code",
   "execution_count": 72,
   "metadata": {
    "slideshow": {
     "slide_type": "fragment"
    }
   },
   "outputs": [
    {
     "data": {
      "text/plain": [
       "[1] TRUE"
      ]
     },
     "metadata": {},
     "output_type": "display_data"
    }
   ],
   "source": [
    "xor(TRUE, FALSE)"
   ]
  },
  {
   "cell_type": "code",
   "execution_count": 73,
   "metadata": {
    "slideshow": {
     "slide_type": "fragment"
    }
   },
   "outputs": [
    {
     "data": {
      "text/plain": [
       "[1] TRUE"
      ]
     },
     "metadata": {},
     "output_type": "display_data"
    }
   ],
   "source": [
    "1 %in% c(1,2,3)"
   ]
  },
  {
   "cell_type": "markdown",
   "metadata": {
    "slideshow": {
     "slide_type": "slide"
    }
   },
   "source": [
    "### Missing data\n",
    "Something you will often encounter when working with real data are missing observations. R has a special value, `NA` , for representing missing data. You can think of the value of `NA` as \"I don't know\". Thus, logical and mathematical operations involving `NA` will again return `NA`, so that `NA`s \"propagate through\" the computation:"
   ]
  },
  {
   "cell_type": "code",
   "execution_count": 74,
   "metadata": {
    "slideshow": {
     "slide_type": "slide"
    }
   },
   "outputs": [
    {
     "data": {
      "text/plain": [
       "[1] NA"
      ]
     },
     "metadata": {},
     "output_type": "display_data"
    }
   ],
   "source": [
    "NA + 5  # 5 + I-don't-know = I-don't-know"
   ]
  },
  {
   "cell_type": "code",
   "execution_count": 75,
   "metadata": {
    "slideshow": {
     "slide_type": "fragment"
    }
   },
   "outputs": [
    {
     "data": {
      "text/plain": [
       "[1] NA"
      ]
     },
     "metadata": {},
     "output_type": "display_data"
    }
   ],
   "source": [
    "1 < NA  # Is 1 less that I-don't-know? I don't know."
   ]
  },
  {
   "cell_type": "code",
   "execution_count": 76,
   "metadata": {
    "slideshow": {
     "slide_type": "fragment"
    }
   },
   "outputs": [
    {
     "data": {
      "text/plain": [
       "[1] NA"
      ]
     },
     "metadata": {},
     "output_type": "display_data"
    },
    {
     "data": {
      "text/plain": [
       "[1] NA"
      ]
     },
     "metadata": {},
     "output_type": "display_data"
    }
   ],
   "source": [
    "NA < NA  # Is I-don't-know greater than I-don't-know? I don't know.\n",
    "mean(c(1, NA, 2))  # And so forth."
   ]
  },
  {
   "cell_type": "code",
   "execution_count": 77,
   "metadata": {
    "slideshow": {
     "slide_type": "fragment"
    }
   },
   "outputs": [
    {
     "data": {
      "text/plain": [
       "[1] NA"
      ]
     },
     "metadata": {},
     "output_type": "display_data"
    }
   ],
   "source": [
    "NA == NA"
   ]
  },
  {
   "cell_type": "markdown",
   "metadata": {
    "slideshow": {
     "slide_type": "slide"
    }
   },
   "source": [
    "Since you cannot test `NA`s for equality, R has a special function for determining whether a value is `NA`:"
   ]
  },
  {
   "cell_type": "code",
   "execution_count": 78,
   "metadata": {
    "slideshow": {
     "slide_type": "fragment"
    }
   },
   "outputs": [
    {
     "data": {
      "text/plain": [
       "[1] TRUE"
      ]
     },
     "metadata": {},
     "output_type": "display_data"
    },
    {
     "data": {
      "text/plain": [
       "[1] FALSE"
      ]
     },
     "metadata": {},
     "output_type": "display_data"
    }
   ],
   "source": [
    "is.na(NA)\n",
    "is.na(1)"
   ]
  },
  {
   "cell_type": "markdown",
   "metadata": {
    "slideshow": {
     "slide_type": "notes"
    }
   },
   "source": [
    "### Examples of filtering\n",
    "Let's use what we have just learned to evaluate some simple queries on the `flights` dataset. Let's first construct narrow down to all flights that departed on December 31:"
   ]
  },
  {
   "cell_type": "code",
   "execution_count": 79,
   "metadata": {
    "slideshow": {
     "slide_type": "slide"
    }
   },
   "outputs": [
    {
     "name": "stdout",
     "output_type": "stream",
     "text": [
      "# A tibble: 776 x 19\n",
      "    year month   day dep_time sched_dep_time dep_delay arr_time sched_arr_time\n",
      "   <int> <int> <int>    <int>          <int>     <dbl>    <int>          <int>\n",
      " 1  2013    12    31       13           2359        14      439            437\n",
      " 2  2013    12    31       18           2359        19      449            444\n",
      " 3  2013    12    31       26           2245       101      129           2353\n",
      " 4  2013    12    31      459            500        -1      655            651\n",
      " 5  2013    12    31      514            515        -1      814            812\n",
      " 6  2013    12    31      549            551        -2      925            900\n",
      " 7  2013    12    31      550            600       -10      725            745\n",
      " 8  2013    12    31      552            600        -8      811            826\n",
      " 9  2013    12    31      553            600        -7      741            754\n",
      "10  2013    12    31      554            550         4     1024           1027\n",
      "# ... with 766 more rows, and 11 more variables: arr_delay <dbl>,\n",
      "#   carrier <chr>, flight <int>, tailnum <chr>, origin <chr>, dest <chr>,\n",
      "#   air_time <dbl>, distance <dbl>, hour <dbl>, minute <dbl>, time_hour <dttm>\n"
     ]
    }
   ],
   "source": [
    "print(filter(flights, month == 12 & day == 31)) # all flights that departed on December 31"
   ]
  },
  {
   "cell_type": "code",
   "execution_count": 80,
   "metadata": {
    "slideshow": {
     "slide_type": "slide"
    }
   },
   "outputs": [
    {
     "name": "stdout",
     "output_type": "stream",
     "text": [
      "# A tibble: 776 x 19\n",
      "    year month   day dep_time sched_dep_time dep_delay arr_time sched_arr_time\n",
      "   <int> <int> <int>    <int>          <int>     <dbl>    <int>          <int>\n",
      " 1  2013    12    31       13           2359        14      439            437\n",
      " 2  2013    12    31       18           2359        19      449            444\n",
      " 3  2013    12    31       26           2245       101      129           2353\n",
      " 4  2013    12    31      459            500        -1      655            651\n",
      " 5  2013    12    31      514            515        -1      814            812\n",
      " 6  2013    12    31      549            551        -2      925            900\n",
      " 7  2013    12    31      550            600       -10      725            745\n",
      " 8  2013    12    31      552            600        -8      811            826\n",
      " 9  2013    12    31      553            600        -7      741            754\n",
      "10  2013    12    31      554            550         4     1024           1027\n",
      "# ... with 766 more rows, and 11 more variables: arr_delay <dbl>,\n",
      "#   carrier <chr>, flight <int>, tailnum <chr>, origin <chr>, dest <chr>,\n",
      "#   air_time <dbl>, distance <dbl>, hour <dbl>, minute <dbl>, time_hour <dttm>\n"
     ]
    }
   ],
   "source": [
    "print(filter(flights, month == 12, day == 31)) # multiple arguments are equivalent to `&`"
   ]
  },
  {
   "cell_type": "markdown",
   "metadata": {
    "slideshow": {
     "slide_type": "notes"
    }
   },
   "source": [
    "Let's filter down to all flights which were in the last quarter of the year (October through December). That is, we want flights whose `month` is 10, 11, or 12. To do this we will make use of the `%in%` operator as well as the `:` (colon) operator. The colon operator takes two integers and returns a vector of all the integers between them: `a:b = c(a,a+1,...,b-1,b)`."
   ]
  },
  {
   "cell_type": "code",
   "execution_count": 81,
   "metadata": {
    "slideshow": {
     "slide_type": "slide"
    }
   },
   "outputs": [
    {
     "data": {
      "text/plain": [
       "[1] 10 11 12"
      ]
     },
     "metadata": {},
     "output_type": "display_data"
    },
    {
     "name": "stdout",
     "output_type": "stream",
     "text": [
      "# A tibble: 84,292 x 19\n",
      "    year month   day dep_time sched_dep_time dep_delay arr_time sched_arr_time\n",
      "   <int> <int> <int>    <int>          <int>     <dbl>    <int>          <int>\n",
      " 1  2013    10     1      447            500       -13      614            648\n",
      " 2  2013    10     1      522            517         5      735            757\n",
      " 3  2013    10     1      536            545        -9      809            855\n",
      " 4  2013    10     1      539            545        -6      801            827\n",
      " 5  2013    10     1      539            545        -6      917            933\n",
      " 6  2013    10     1      544            550        -6      912            932\n",
      " 7  2013    10     1      549            600       -11      653            716\n",
      " 8  2013    10     1      550            600       -10      648            700\n",
      " 9  2013    10     1      550            600       -10      649            659\n",
      "10  2013    10     1      551            600        -9      727            730\n",
      "# ... with 84,282 more rows, and 11 more variables: arr_delay <dbl>,\n",
      "#   carrier <chr>, flight <int>, tailnum <chr>, origin <chr>, dest <chr>,\n",
      "#   air_time <dbl>, distance <dbl>, hour <dbl>, minute <dbl>, time_hour <dttm>\n"
     ]
    }
   ],
   "source": [
    "(last_quarter = 10:12)\n",
    "print(filter(flights, month %in% last_quarter)) # Flight from October through December"
   ]
  },
  {
   "cell_type": "markdown",
   "metadata": {
    "slideshow": {
     "slide_type": "notes"
    }
   },
   "source": [
    "### Counting matches\n",
    "Sometimes we just want to know how many observations match a given filter. The `nrow()` command can be used to count the number of rows in a data table."
   ]
  },
  {
   "cell_type": "code",
   "execution_count": 82,
   "metadata": {
    "slideshow": {
     "slide_type": "slide"
    }
   },
   "outputs": [
    {
     "data": {
      "text/plain": [
       "[1] 8255"
      ]
     },
     "metadata": {},
     "output_type": "display_data"
    }
   ],
   "source": [
    "nrow(filter(flights, is.na(dep_time))) #  counting flights with missing departure time."
   ]
  },
  {
   "cell_type": "code",
   "execution_count": 83,
   "metadata": {},
   "outputs": [
    {
     "data": {
      "text/plain": [
       "[1] 80789"
      ]
     },
     "metadata": {},
     "output_type": "display_data"
    }
   ],
   "source": [
    "nrow(filter(flights, between(month, 1, 3))) # no. of flights departing between Jan and Mar"
   ]
  },
  {
   "cell_type": "markdown",
   "metadata": {
    "slideshow": {
     "slide_type": "slide"
    }
   },
   "source": [
    "## Arranging rows\n",
    "`arrange` can order rows of a data frame using a variable name (or a more complicated expression). If you provide multiple expressions to order by, it uses the second one to break ties in the first one, third one to break ties in the second one, and so on."
   ]
  },
  {
   "cell_type": "code",
   "execution_count": 84,
   "metadata": {},
   "outputs": [
    {
     "name": "stdout",
     "output_type": "stream",
     "text": [
      "# A tibble: 336,776 x 19\n",
      "    year month   day dep_time sched_dep_time dep_delay arr_time sched_arr_time\n",
      "   <int> <int> <int>    <int>          <int>     <dbl>    <int>          <int>\n",
      " 1  2013     6    24        1           1950       251      105           2130\n",
      " 2  2013     4    10        1           1930       271      106           2101\n",
      " 3  2013     1    13        1           2249        72      108           2357\n",
      " 4  2013     2    11        1           2100       181      111           2225\n",
      " 5  2013     3    19        1           2250        71      120              5\n",
      " 6  2013     2    24        1           2245        76      121           2354\n",
      " 7  2013     1    31        1           2100       181      124           2225\n",
      " 8  2013     7    22        1           2305        56      135             13\n",
      " 9  2013     5    22        1           1935       266      154           2140\n",
      "10  2013     7     1        1           2029       212      236           2359\n",
      "# ... with 336,766 more rows, and 11 more variables: arr_delay <dbl>,\n",
      "#   carrier <chr>, flight <int>, tailnum <chr>, origin <chr>, dest <chr>,\n",
      "#   air_time <dbl>, distance <dbl>, hour <dbl>, minute <dbl>, time_hour <dttm>\n"
     ]
    }
   ],
   "source": [
    "print(arrange(flights, dep_time, arr_time))  # sorts by departure time, then arrival time"
   ]
  },
  {
   "cell_type": "markdown",
   "metadata": {
    "slideshow": {
     "slide_type": "slide"
    }
   },
   "source": [
    "Note the difference between this table and "
   ]
  },
  {
   "cell_type": "code",
   "execution_count": 85,
   "metadata": {},
   "outputs": [
    {
     "name": "stdout",
     "output_type": "stream",
     "text": [
      "# A tibble: 336,776 x 19\n",
      "    year month   day dep_time sched_dep_time dep_delay arr_time sched_arr_time\n",
      "   <int> <int> <int>    <int>          <int>     <dbl>    <int>          <int>\n",
      " 1  2013    12     8     1909           1804        65        1           2125\n",
      " 2  2013    11    15     1929           1932        -3        1             28\n",
      " 3  2013    12    14     1944           1815        89        1           2058\n",
      " 4  2013    12     8     1957           1930        27        1           2301\n",
      " 5  2013     7    28     2007           1940        27        1           2255\n",
      " 6  2013     6    26     2008           1819       109        1           2118\n",
      " 7  2013     5    22     2013           2020        -7        1           2245\n",
      " 8  2013     1    16     2018           2025        -7        1           2329\n",
      " 9  2013     6    24     2018           1711       187        1           2039\n",
      "10  2013     7    12     2020           2007        13        1           2359\n",
      "# ... with 336,766 more rows, and 11 more variables: arr_delay <dbl>,\n",
      "#   carrier <chr>, flight <int>, tailnum <chr>, origin <chr>, dest <chr>,\n",
      "#   air_time <dbl>, distance <dbl>, hour <dbl>, minute <dbl>, time_hour <dttm>\n"
     ]
    }
   ],
   "source": [
    "print(arrange(flights, arr_time, dep_time))  # sorts by arrival time, then departure time"
   ]
  },
  {
   "cell_type": "markdown",
   "metadata": {
    "slideshow": {
     "slide_type": "notes"
    }
   },
   "source": [
    "In the first we sorted by departure time then arrival time. So the top-most rows have the earliest departure times. In the second we sorted by arrival time, so the top-most rows have the earliest arrival times."
   ]
  },
  {
   "cell_type": "markdown",
   "metadata": {
    "slideshow": {
     "slide_type": "slide"
    }
   },
   "source": [
    "The default order is *ascending*. `desc()` will order in descending order."
   ]
  },
  {
   "cell_type": "code",
   "execution_count": 86,
   "metadata": {},
   "outputs": [
    {
     "name": "stdout",
     "output_type": "stream",
     "text": [
      "# A tibble: 336,776 x 19\n",
      "    year month   day dep_time sched_dep_time dep_delay arr_time sched_arr_time\n",
      "   <int> <int> <int>    <int>          <int>     <dbl>    <int>          <int>\n",
      " 1  2013    12     1       13           2359        14      446            445\n",
      " 2  2013    12     1       17           2359        18      443            437\n",
      " 3  2013    12     1      453            500        -7      636            651\n",
      " 4  2013    12     1      520            515         5      749            808\n",
      " 5  2013    12     1      536            540        -4      845            850\n",
      " 6  2013    12     1      540            550       -10     1005           1027\n",
      " 7  2013    12     1      541            545        -4      734            755\n",
      " 8  2013    12     1      546            545         1      826            835\n",
      " 9  2013    12     1      549            600       -11      648            659\n",
      "10  2013    12     1      550            600       -10      825            854\n",
      "# ... with 336,766 more rows, and 11 more variables: arr_delay <dbl>,\n",
      "#   carrier <chr>, flight <int>, tailnum <chr>, origin <chr>, dest <chr>,\n",
      "#   air_time <dbl>, distance <dbl>, hour <dbl>, minute <dbl>, time_hour <dttm>\n"
     ]
    }
   ],
   "source": [
    "print(arrange(flights, desc(month)))"
   ]
  },
  {
   "cell_type": "markdown",
   "metadata": {
    "slideshow": {
     "slide_type": "slide"
    }
   },
   "source": [
    "You can mix ascending and descending order for different columns:"
   ]
  },
  {
   "cell_type": "code",
   "execution_count": 87,
   "metadata": {},
   "outputs": [
    {
     "name": "stdout",
     "output_type": "stream",
     "text": [
      "# A tibble: 336,776 x 19\n",
      "    year month   day dep_time sched_dep_time dep_delay arr_time sched_arr_time\n",
      "   <int> <int> <int>    <int>          <int>     <dbl>    <int>          <int>\n",
      " 1  2013    12     1       13           2359        14      446            445\n",
      " 2  2013    12     1       17           2359        18      443            437\n",
      " 3  2013    12     1      453            500        -7      636            651\n",
      " 4  2013    12     1      520            515         5      749            808\n",
      " 5  2013    12     1      536            540        -4      845            850\n",
      " 6  2013    12     1      540            550       -10     1005           1027\n",
      " 7  2013    12     1      541            545        -4      734            755\n",
      " 8  2013    12     1      546            545         1      826            835\n",
      " 9  2013    12     1      549            600       -11      648            659\n",
      "10  2013    12     1      550            600       -10      825            854\n",
      "# ... with 336,766 more rows, and 11 more variables: arr_delay <dbl>,\n",
      "#   carrier <chr>, flight <int>, tailnum <chr>, origin <chr>, dest <chr>,\n",
      "#   air_time <dbl>, distance <dbl>, hour <dbl>, minute <dbl>, time_hour <dttm>\n"
     ]
    }
   ],
   "source": [
    "print(arrange(flights, desc(month), year))"
   ]
  },
  {
   "cell_type": "markdown",
   "metadata": {
    "slideshow": {
     "slide_type": "slide"
    }
   },
   "source": [
    "Missing values are always left at the end by `arrange`, regardless of which order you sort:"
   ]
  },
  {
   "cell_type": "code",
   "execution_count": 88,
   "metadata": {},
   "outputs": [
    {
     "name": "stdout",
     "output_type": "stream",
     "text": [
      "# A tibble: 6 x 19\n",
      "   year month   day dep_time sched_dep_time dep_delay arr_time sched_arr_time\n",
      "  <int> <int> <int>    <int>          <int>     <dbl>    <int>          <int>\n",
      "1  2013     9    30       NA           1842        NA       NA           2019\n",
      "2  2013     9    30       NA           1455        NA       NA           1634\n",
      "3  2013     9    30       NA           2200        NA       NA           2312\n",
      "4  2013     9    30       NA           1210        NA       NA           1330\n",
      "5  2013     9    30       NA           1159        NA       NA           1344\n",
      "6  2013     9    30       NA            840        NA       NA           1020\n",
      "# ... with 11 more variables: arr_delay <dbl>, carrier <chr>, flight <int>,\n",
      "#   tailnum <chr>, origin <chr>, dest <chr>, air_time <dbl>, distance <dbl>,\n",
      "#   hour <dbl>, minute <dbl>, time_hour <dttm>\n",
      "# A tibble: 6 x 19\n",
      "   year month   day dep_time sched_dep_time dep_delay arr_time sched_arr_time\n",
      "  <int> <int> <int>    <int>          <int>     <dbl>    <int>          <int>\n",
      "1  2013     9    30       NA           1842        NA       NA           2019\n",
      "2  2013     9    30       NA           1455        NA       NA           1634\n",
      "3  2013     9    30       NA           2200        NA       NA           2312\n",
      "4  2013     9    30       NA           1210        NA       NA           1330\n",
      "5  2013     9    30       NA           1159        NA       NA           1344\n",
      "6  2013     9    30       NA            840        NA       NA           1020\n",
      "# ... with 11 more variables: arr_delay <dbl>, carrier <chr>, flight <int>,\n",
      "#   tailnum <chr>, origin <chr>, dest <chr>, air_time <dbl>, distance <dbl>,\n",
      "#   hour <dbl>, minute <dbl>, time_hour <dttm>\n"
     ]
    }
   ],
   "source": [
    "print(tail(arrange(flights, dep_delay)))  # NA values of dep_delay will occur last\n",
    "print(tail(arrange(flights, desc(dep_delay))))"
   ]
  },
  {
   "cell_type": "markdown",
   "metadata": {
    "slideshow": {
     "slide_type": "slide"
    }
   },
   "source": [
    "## Selecting columns\n",
    "`select` is used to keep only a few variables of interest to the current analysis. It is most useful when working with data frames involving a large number of variables."
   ]
  },
  {
   "cell_type": "code",
   "execution_count": 89,
   "metadata": {
    "slideshow": {
     "slide_type": "slide"
    }
   },
   "outputs": [
    {
     "name": "stdout",
     "output_type": "stream",
     "text": [
      "# A tibble: 336,776 x 5\n",
      "    year month   day dep_time arr_time\n",
      "   <int> <int> <int>    <int>    <int>\n",
      " 1  2013     1     1      517      830\n",
      " 2  2013     1     1      533      850\n",
      " 3  2013     1     1      542      923\n",
      " 4  2013     1     1      544     1004\n",
      " 5  2013     1     1      554      812\n",
      " 6  2013     1     1      554      740\n",
      " 7  2013     1     1      555      913\n",
      " 8  2013     1     1      557      709\n",
      " 9  2013     1     1      557      838\n",
      "10  2013     1     1      558      753\n",
      "# ... with 336,766 more rows\n"
     ]
    }
   ],
   "source": [
    "print(select(flights, year, month, day, dep_time, arr_time))"
   ]
  },
  {
   "cell_type": "markdown",
   "metadata": {
    "slideshow": {
     "slide_type": "slide"
    }
   },
   "source": [
    "You can change the name of the variables when selecting them."
   ]
  },
  {
   "cell_type": "code",
   "execution_count": 90,
   "metadata": {},
   "outputs": [
    {
     "name": "stdout",
     "output_type": "stream",
     "text": [
      "# A tibble: 336,776 x 5\n",
      "    year month   day departure_time arrival_time\n",
      "   <int> <int> <int>          <int>        <int>\n",
      " 1  2013     1     1            517          830\n",
      " 2  2013     1     1            533          850\n",
      " 3  2013     1     1            542          923\n",
      " 4  2013     1     1            544         1004\n",
      " 5  2013     1     1            554          812\n",
      " 6  2013     1     1            554          740\n",
      " 7  2013     1     1            555          913\n",
      " 8  2013     1     1            557          709\n",
      " 9  2013     1     1            557          838\n",
      "10  2013     1     1            558          753\n",
      "# ... with 336,766 more rows\n"
     ]
    }
   ],
   "source": [
    "print(select(flights, year, month, day, departure_time=dep_time, arrival_time=arr_time))"
   ]
  },
  {
   "cell_type": "markdown",
   "metadata": {
    "slideshow": {
     "slide_type": "slide"
    }
   },
   "source": [
    "Note that `select` drops any variables not explicitly mentioned. To just rename some variables while keeping all others, use `rename`."
   ]
  },
  {
   "cell_type": "code",
   "execution_count": 91,
   "metadata": {},
   "outputs": [
    {
     "name": "stdout",
     "output_type": "stream",
     "text": [
      "# A tibble: 336,776 x 19\n",
      "    year month   day departure_time sched_dep_time dep_delay arrival_time\n",
      "   <int> <int> <int>          <int>          <int>     <dbl>        <int>\n",
      " 1  2013     1     1            517            515         2          830\n",
      " 2  2013     1     1            533            529         4          850\n",
      " 3  2013     1     1            542            540         2          923\n",
      " 4  2013     1     1            544            545        -1         1004\n",
      " 5  2013     1     1            554            600        -6          812\n",
      " 6  2013     1     1            554            558        -4          740\n",
      " 7  2013     1     1            555            600        -5          913\n",
      " 8  2013     1     1            557            600        -3          709\n",
      " 9  2013     1     1            557            600        -3          838\n",
      "10  2013     1     1            558            600        -2          753\n",
      "# ... with 336,766 more rows, and 12 more variables: sched_arr_time <int>,\n",
      "#   arr_delay <dbl>, carrier <chr>, flight <int>, tailnum <chr>, origin <chr>,\n",
      "#   dest <chr>, air_time <dbl>, distance <dbl>, hour <dbl>, minute <dbl>,\n",
      "#   time_hour <dttm>\n"
     ]
    }
   ],
   "source": [
    "print(rename(flights, departure_time=dep_time, arrival_time=arr_time))"
   ]
  },
  {
   "cell_type": "markdown",
   "metadata": {
    "slideshow": {
     "slide_type": "slide"
    }
   },
   "source": [
    "If there are a lot of variables, you can save yourself some typing by using `:` and `-` in combination with select. The colon operator selects a range of variables:"
   ]
  },
  {
   "cell_type": "code",
   "execution_count": 92,
   "metadata": {},
   "outputs": [
    {
     "name": "stdout",
     "output_type": "stream",
     "text": [
      "# A tibble: 336,776 x 19\n",
      "    year month   day dep_time sched_dep_time dep_delay arr_time sched_arr_time\n",
      "   <int> <int> <int>    <int>          <int>     <dbl>    <int>          <int>\n",
      " 1  2013     1     1      517            515         2      830            819\n",
      " 2  2013     1     1      533            529         4      850            830\n",
      " 3  2013     1     1      542            540         2      923            850\n",
      " 4  2013     1     1      544            545        -1     1004           1022\n",
      " 5  2013     1     1      554            600        -6      812            837\n",
      " 6  2013     1     1      554            558        -4      740            728\n",
      " 7  2013     1     1      555            600        -5      913            854\n",
      " 8  2013     1     1      557            600        -3      709            723\n",
      " 9  2013     1     1      557            600        -3      838            846\n",
      "10  2013     1     1      558            600        -2      753            745\n",
      "# ... with 336,766 more rows, and 11 more variables: arr_delay <dbl>,\n",
      "#   carrier <chr>, flight <int>, tailnum <chr>, origin <chr>, dest <chr>,\n",
      "#   air_time <dbl>, distance <dbl>, hour <dbl>, minute <dbl>, time_hour <dttm>\n",
      "# A tibble: 336,776 x 3\n",
      "    year month   day\n",
      "   <int> <int> <int>\n",
      " 1  2013     1     1\n",
      " 2  2013     1     1\n",
      " 3  2013     1     1\n",
      " 4  2013     1     1\n",
      " 5  2013     1     1\n",
      " 6  2013     1     1\n",
      " 7  2013     1     1\n",
      " 8  2013     1     1\n",
      " 9  2013     1     1\n",
      "10  2013     1     1\n",
      "# ... with 336,766 more rows\n"
     ]
    }
   ],
   "source": [
    "print(flights)\n",
    "print(select(flights, year:day))"
   ]
  },
  {
   "cell_type": "markdown",
   "metadata": {
    "slideshow": {
     "slide_type": "slide"
    }
   },
   "source": [
    "The negative sign lets you select everything but certain columns:"
   ]
  },
  {
   "cell_type": "code",
   "execution_count": 93,
   "metadata": {
    "slideshow": {
     "slide_type": "-"
    }
   },
   "outputs": [
    {
     "name": "stdout",
     "output_type": "stream",
     "text": [
      "# A tibble: 336,776 x 16\n",
      "   dep_time sched_dep_time dep_delay arr_time sched_arr_time arr_delay carrier\n",
      "      <int>          <int>     <dbl>    <int>          <int>     <dbl>   <chr>\n",
      " 1      517            515         2      830            819        11      UA\n",
      " 2      533            529         4      850            830        20      UA\n",
      " 3      542            540         2      923            850        33      AA\n",
      " 4      544            545        -1     1004           1022       -18      B6\n",
      " 5      554            600        -6      812            837       -25      DL\n",
      " 6      554            558        -4      740            728        12      UA\n",
      " 7      555            600        -5      913            854        19      B6\n",
      " 8      557            600        -3      709            723       -14      EV\n",
      " 9      557            600        -3      838            846        -8      B6\n",
      "10      558            600        -2      753            745         8      AA\n",
      "# ... with 336,766 more rows, and 9 more variables: flight <int>,\n",
      "#   tailnum <chr>, origin <chr>, dest <chr>, air_time <dbl>, distance <dbl>,\n",
      "#   hour <dbl>, minute <dbl>, time_hour <dttm>\n"
     ]
    }
   ],
   "source": [
    "print(select(flights, -year, -day, -month))"
   ]
  },
  {
   "cell_type": "markdown",
   "metadata": {
    "slideshow": {
     "slide_type": "slide"
    }
   },
   "source": [
    "You can use `-` and `:` together, for example:"
   ]
  },
  {
   "cell_type": "code",
   "execution_count": 94,
   "metadata": {},
   "outputs": [
    {
     "name": "stdout",
     "output_type": "stream",
     "text": [
      "# A tibble: 336,776 x 17\n",
      "     day dep_time sched_dep_time dep_delay arr_time sched_arr_time arr_delay\n",
      "   <int>    <int>          <int>     <dbl>    <int>          <int>     <dbl>\n",
      " 1     1      517            515         2      830            819        11\n",
      " 2     1      533            529         4      850            830        20\n",
      " 3     1      542            540         2      923            850        33\n",
      " 4     1      544            545        -1     1004           1022       -18\n",
      " 5     1      554            600        -6      812            837       -25\n",
      " 6     1      554            558        -4      740            728        12\n",
      " 7     1      555            600        -5      913            854        19\n",
      " 8     1      557            600        -3      709            723       -14\n",
      " 9     1      557            600        -3      838            846        -8\n",
      "10     1      558            600        -2      753            745         8\n",
      "# ... with 336,766 more rows, and 10 more variables: carrier <chr>,\n",
      "#   flight <int>, tailnum <chr>, origin <chr>, dest <chr>, air_time <dbl>,\n",
      "#   distance <dbl>, hour <dbl>, minute <dbl>, time_hour <dttm>\n"
     ]
    }
   ],
   "source": [
    "print(select(flights, -(year:month)))  # select everything EXCEPT the variables between year and month"
   ]
  },
  {
   "cell_type": "markdown",
   "metadata": {
    "slideshow": {
     "slide_type": "slide"
    }
   },
   "source": [
    "If you want to bring a few variables at the beginning, you can use `everything()` to refer to the remaining variables."
   ]
  },
  {
   "cell_type": "code",
   "execution_count": 95,
   "metadata": {},
   "outputs": [
    {
     "name": "stdout",
     "output_type": "stream",
     "text": [
      "# A tibble: 336,776 x 19\n",
      "   dep_time arr_time   day month  year sched_dep_time dep_delay sched_arr_time\n",
      "      <int>    <int> <int> <int> <int>          <int>     <dbl>          <int>\n",
      " 1      517      830     1     1  2013            515         2            819\n",
      " 2      533      850     1     1  2013            529         4            830\n",
      " 3      542      923     1     1  2013            540         2            850\n",
      " 4      544     1004     1     1  2013            545        -1           1022\n",
      " 5      554      812     1     1  2013            600        -6            837\n",
      " 6      554      740     1     1  2013            558        -4            728\n",
      " 7      555      913     1     1  2013            600        -5            854\n",
      " 8      557      709     1     1  2013            600        -3            723\n",
      " 9      557      838     1     1  2013            600        -3            846\n",
      "10      558      753     1     1  2013            600        -2            745\n",
      "# ... with 336,766 more rows, and 11 more variables: arr_delay <dbl>,\n",
      "#   carrier <chr>, flight <int>, tailnum <chr>, origin <chr>, dest <chr>,\n",
      "#   air_time <dbl>, distance <dbl>, hour <dbl>, minute <dbl>, time_hour <dttm>\n"
     ]
    }
   ],
   "source": [
    "print(select(flights, dep_time, arr_time, day, month, year, everything()))"
   ]
  },
  {
   "cell_type": "markdown",
   "metadata": {
    "slideshow": {
     "slide_type": "slide"
    }
   },
   "source": [
    "In addition, there are some helper functions that only work inside `select()`.\n",
    "\n",
    "* `starts_with()`, `ends_with()`, `contains()`\n",
    "* `matches()`\n",
    "* `num_range()`\n",
    "\n",
    "These match *column names* (not variable values -- for that you'd use `filter()`).\n",
    "\n",
    "You can consult the documentation or type `?select_helpers` at the prompt to learn more about these."
   ]
  },
  {
   "cell_type": "code",
   "execution_count": 96,
   "metadata": {
    "slideshow": {
     "slide_type": "slide"
    }
   },
   "outputs": [
    {
     "name": "stdout",
     "output_type": "stream",
     "text": [
      "# A tibble: 336,776 x 6\n",
      "   dep_time sched_dep_time arr_time sched_arr_time air_time           time_hour\n",
      "      <int>          <int>    <int>          <int>    <dbl>              <dttm>\n",
      " 1      517            515      830            819      227 2013-01-01 05:00:00\n",
      " 2      533            529      850            830      227 2013-01-01 05:00:00\n",
      " 3      542            540      923            850      160 2013-01-01 05:00:00\n",
      " 4      544            545     1004           1022      183 2013-01-01 05:00:00\n",
      " 5      554            600      812            837      116 2013-01-01 06:00:00\n",
      " 6      554            558      740            728      150 2013-01-01 05:00:00\n",
      " 7      555            600      913            854      158 2013-01-01 06:00:00\n",
      " 8      557            600      709            723       53 2013-01-01 06:00:00\n",
      " 9      557            600      838            846      140 2013-01-01 06:00:00\n",
      "10      558            600      753            745      138 2013-01-01 06:00:00\n",
      "# ... with 336,766 more rows\n"
     ]
    }
   ],
   "source": [
    "print(select(flights, contains(\"time\")))  # select all the columns that contain \"time\""
   ]
  },
  {
   "cell_type": "code",
   "execution_count": 97,
   "metadata": {
    "slideshow": {
     "slide_type": "slide"
    }
   },
   "outputs": [
    {
     "name": "stdout",
     "output_type": "stream",
     "text": [
      "# A tibble: 336,776 x 2\n",
      "   dep_time arr_time\n",
      "      <int>    <int>\n",
      " 1      517      830\n",
      " 2      533      850\n",
      " 3      542      923\n",
      " 4      544     1004\n",
      " 5      554      812\n",
      " 6      554      740\n",
      " 7      555      913\n",
      " 8      557      709\n",
      " 9      557      838\n",
      "10      558      753\n",
      "# ... with 336,766 more rows\n"
     ]
    }
   ],
   "source": [
    "print(select(flights, one_of(c(\"dep_time\", \"arr_time\"))))"
   ]
  },
  {
   "cell_type": "code",
   "execution_count": 98,
   "metadata": {
    "slideshow": {
     "slide_type": "slide"
    }
   },
   "outputs": [
    {
     "name": "stdout",
     "output_type": "stream",
     "text": [
      "# A tibble: 336,776 x 6\n",
      "   dep_time sched_dep_time arr_time sched_arr_time air_time           time_hour\n",
      "      <int>          <int>    <int>          <int>    <dbl>              <dttm>\n",
      " 1      517            515      830            819      227 2013-01-01 05:00:00\n",
      " 2      533            529      850            830      227 2013-01-01 05:00:00\n",
      " 3      542            540      923            850      160 2013-01-01 05:00:00\n",
      " 4      544            545     1004           1022      183 2013-01-01 05:00:00\n",
      " 5      554            600      812            837      116 2013-01-01 06:00:00\n",
      " 6      554            558      740            728      150 2013-01-01 05:00:00\n",
      " 7      555            600      913            854      158 2013-01-01 06:00:00\n",
      " 8      557            600      709            723       53 2013-01-01 06:00:00\n",
      " 9      557            600      838            846      140 2013-01-01 06:00:00\n",
      "10      558            600      753            745      138 2013-01-01 06:00:00\n",
      "# ... with 336,766 more rows\n"
     ]
    }
   ],
   "source": [
    "print(select(flights, contains(\"TIME\")))  # case-insensitive by default"
   ]
  },
  {
   "cell_type": "markdown",
   "metadata": {
    "slideshow": {
     "slide_type": "slide"
    }
   },
   "source": [
    "### Regular expressions\n",
    "Lastly we will look at an example of the `matches()` command, which allows us to match columns based on certain patterns known an *regular expressions*. Regular expressions are a very powerful matching language which we will study later in the course. Let's say I wanted to match all the columns that have the form:\n",
    "```\n",
    "<WORD>_<WORD>_<WORD>\n",
    "```\n",
    "That is, three words separated by two underscores."
   ]
  },
  {
   "cell_type": "code",
   "execution_count": 99,
   "metadata": {
    "slideshow": {
     "slide_type": "slide"
    }
   },
   "outputs": [
    {
     "name": "stdout",
     "output_type": "stream",
     "text": [
      "# A tibble: 336,776 x 2\n",
      "   sched_dep_time sched_arr_time\n",
      "            <int>          <int>\n",
      " 1            515            819\n",
      " 2            529            830\n",
      " 3            540            850\n",
      " 4            545           1022\n",
      " 5            600            837\n",
      " 6            558            728\n",
      " 7            600            854\n",
      " 8            600            723\n",
      " 9            600            846\n",
      "10            600            745\n",
      "# ... with 336,766 more rows\n"
     ]
    }
   ],
   "source": [
    "print(select(flights, matches(\"\\\\w+_\\\\w+_\\\\w+\")))  # regex to match WORD_WORD_WORD"
   ]
  }
 ],
 "metadata": {
  "celltoolbar": "Slideshow",
  "kernelspec": {
   "display_name": "R",
   "language": "R",
   "name": "ir"
  },
  "language_info": {
   "codemirror_mode": "r",
   "file_extension": ".r",
   "mimetype": "text/x-r-source",
   "name": "R",
   "pygments_lexer": "r",
   "version": "3.4.3"
  }
 },
 "nbformat": 4,
 "nbformat_minor": 1
}
