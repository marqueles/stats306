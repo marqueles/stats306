{
 "cells": [
  {
   "cell_type": "markdown",
   "metadata": {},
   "source": [
    "Before you turn this problem in, make sure everything runs as expected. First, **restart the kernel** (in the menubar, select Kernel$\\rightarrow$Restart) and then **run all cells** (in the menubar, select Cell$\\rightarrow$Run All). Your code should run from top to bottom with no errors. Failure to do this will result in loss of points.\n",
    "\n",
    "Make sure you fill in any place that says `YOUR CODE HERE` or \"YOUR ANSWER HERE\" and delete the `stop()` functions, as well as your name and collaborators below:"
   ]
  },
  {
   "cell_type": "code",
   "execution_count": null,
   "metadata": {},
   "outputs": [],
   "source": [
    "NAME = \"\"  # your uniqname \n",
    "COLLABORATORS = c()  # vector of uniqnames of your collaborators, if any\n",
    "## IMPORTANT: also enter your group information in Canvas when you upload the assignment"
   ]
  },
  {
   "cell_type": "markdown",
   "metadata": {},
   "source": [
    "---"
   ]
  },
  {
   "cell_type": "code",
   "execution_count": null,
   "metadata": {},
   "outputs": [],
   "source": [
    "library(tidyverse)\n",
    "library(nycflights13)"
   ]
  },
  {
   "cell_type": "markdown",
   "metadata": {
    "deletable": false,
    "editable": false,
    "nbgrader": {
     "checksum": "e0f6037d76d11c41888c1b43f67d8ad2",
     "grade": false,
     "grade_id": "cell-b2019ef39daf039d",
     "locked": true,
     "schema_version": 1,
     "solution": false
    }
   },
   "source": [
    "# STATS 306\n",
    "## Problem set 3: data manipulation II\n",
    "These questions again focus on the `flights` dataset. Each question is worth two points, for a total of 20.\n",
    "\n",
    "*Note*: you do not need to use `install.packages()` in this notebook. You may assume that we have already installed all of the necessary packages when we run your code."
   ]
  },
  {
   "cell_type": "markdown",
   "metadata": {
    "deletable": false,
    "editable": false,
    "nbgrader": {
     "checksum": "066ebb016daa163d8dc88d52305b08a5",
     "grade": false,
     "grade_id": "cell-20275bba9d88d940",
     "locked": true,
     "schema_version": 1,
     "solution": false
    }
   },
   "source": [
    "#### Problem 1\n",
    "Recall that each airplane has a unique tail number given by `tailnum`. Find the tail number of the airplane which flew to the largest number of unique destinations from NYC airports in 2013. Store the string containing this tail number in a variable called `most_dests`."
   ]
  },
  {
   "cell_type": "code",
   "execution_count": null,
   "metadata": {
    "deletable": false,
    "nbgrader": {
     "checksum": "7960c47ea7c427d277f239d8fd3d6627",
     "grade": false,
     "grade_id": "cell-e537b3c48f99f487",
     "locked": false,
     "schema_version": 1,
     "solution": true
    }
   },
   "outputs": [],
   "source": [
    "# YOUR CODE HERE\n",
    "stop()"
   ]
  },
  {
   "cell_type": "code",
   "execution_count": null,
   "metadata": {
    "deletable": false,
    "editable": false,
    "nbgrader": {
     "checksum": "568c62ef4d6fa3908c900b1e7caa6c7a",
     "grade": true,
     "grade_id": "cell-1ffbbc74bad522fc",
     "locked": true,
     "points": 2,
     "schema_version": 1,
     "solution": false
    }
   },
   "outputs": [],
   "source": [
    "stopifnot(exists(\"most_dests\"))"
   ]
  },
  {
   "cell_type": "markdown",
   "metadata": {
    "deletable": false,
    "editable": false,
    "nbgrader": {
     "checksum": "03706a01c030884a226e0434db01bd05",
     "grade": false,
     "grade_id": "cell-897493f201837de6",
     "locked": true,
     "schema_version": 1,
     "solution": false
    }
   },
   "source": [
    "#### Problem 2\n",
    "Define a new table `flights2` obtained by adding a new column `dow` equal to the day of the week on which that flight took place. For example, the first flight in `flights` took place on Tuesday, January 1, 2013, so the first entry of column `dow` should equal `Tuesday`."
   ]
  },
  {
   "cell_type": "code",
   "execution_count": null,
   "metadata": {
    "deletable": false,
    "nbgrader": {
     "checksum": "c6f5456f2956ba29c977222a52abc068",
     "grade": false,
     "grade_id": "cell-7c06188bbda9e82d",
     "locked": false,
     "schema_version": 1,
     "solution": true
    }
   },
   "outputs": [],
   "source": [
    "# YOUR CODE HERE\n",
    "stop()"
   ]
  },
  {
   "cell_type": "code",
   "execution_count": null,
   "metadata": {
    "deletable": false,
    "editable": false,
    "nbgrader": {
     "checksum": "13ab26c40443a818b653b89d3c210fd4",
     "grade": true,
     "grade_id": "cell-7c5abf5a3d94c291",
     "locked": true,
     "points": 2,
     "schema_version": 1,
     "solution": false
    }
   },
   "outputs": [],
   "source": [
    "stopifnot(exists(\"flights2\"))"
   ]
  },
  {
   "cell_type": "markdown",
   "metadata": {
    "deletable": false,
    "editable": false,
    "nbgrader": {
     "checksum": "f4902cac2e5fc3e9fa9325311668430e",
     "grade": false,
     "grade_id": "cell-d125db755580f259",
     "locked": true,
     "schema_version": 1,
     "solution": false
    }
   },
   "source": [
    "#### Problem 3\n",
    "Define a new table `flights3` by adding a new column `doy` equal to the numerical day of the year in which that flight took place. For example, the final flight in `flights` took place during on December 31st, so since 2013 was not a leap year, the final entry of `doy` should equal 365."
   ]
  },
  {
   "cell_type": "code",
   "execution_count": null,
   "metadata": {
    "deletable": false,
    "nbgrader": {
     "checksum": "35b0142bebda33eac691623d17585afb",
     "grade": false,
     "grade_id": "cell-57b075b584e237dc",
     "locked": false,
     "schema_version": 1,
     "solution": true
    }
   },
   "outputs": [],
   "source": [
    "flights3 = NA\n",
    "# YOUR CODE HERE\n",
    "stop()"
   ]
  },
  {
   "cell_type": "code",
   "execution_count": null,
   "metadata": {
    "deletable": false,
    "editable": false,
    "nbgrader": {
     "checksum": "58dca20681550eb97b5c263f5f74b090",
     "grade": true,
     "grade_id": "cell-ba289f455c63d61f",
     "locked": true,
     "points": 2,
     "schema_version": 1,
     "solution": false
    }
   },
   "outputs": [],
   "source": [
    "stopifnot(exists('flights3'))"
   ]
  },
  {
   "cell_type": "markdown",
   "metadata": {
    "deletable": false,
    "editable": false,
    "nbgrader": {
     "checksum": "3023e47366d65293dd37300b50f3830f",
     "grade": false,
     "grade_id": "cell-0e8abf21f2ba96ea",
     "locked": true,
     "schema_version": 1,
     "solution": false
    }
   },
   "source": [
    "#### Problem 4\n",
    "Use your solution from problem 2 to define a new variable `week` such that  `week=1` for `doy=1,2,...,7`, `week=2` for `doy=8,...,14`, etc. Store the resulting table in a variable called `flights4`."
   ]
  },
  {
   "cell_type": "code",
   "execution_count": null,
   "metadata": {
    "deletable": false,
    "nbgrader": {
     "checksum": "dab22a1d104185754a0be52ffc0a6c67",
     "grade": false,
     "grade_id": "cell-59e38f81ba41d20c",
     "locked": false,
     "schema_version": 1,
     "solution": true
    }
   },
   "outputs": [],
   "source": [
    "# YOUR CODE HERE\n",
    "stop()"
   ]
  },
  {
   "cell_type": "code",
   "execution_count": null,
   "metadata": {
    "deletable": false,
    "editable": false,
    "nbgrader": {
     "checksum": "6b135d6810361013f04d4a59ed724e47",
     "grade": true,
     "grade_id": "cell-54ca217e5bc56aa8",
     "locked": true,
     "points": 0,
     "schema_version": 1,
     "solution": false
    }
   },
   "outputs": [],
   "source": [
    "stopifnot(exists(\"flights4\"))"
   ]
  },
  {
   "cell_type": "markdown",
   "metadata": {
    "deletable": false,
    "editable": false,
    "nbgrader": {
     "checksum": "a2ab902c8cec464dc15a3c32643bf177",
     "grade": false,
     "grade_id": "cell-445c03b12c5f570f",
     "locked": true,
     "schema_version": 1,
     "solution": false
    }
   },
   "source": [
    "#### Problem 5\n",
    "Let a flight's \"positive arrival delay\" be defined as the larger of `arr_delay` and zero. We say a flight is *ridiculously late* if its arrival delay was more than ten times the average positive arrival delay for all flights in that week.\n",
    "- Use your solution from problem 4 to calculate the number of ridiculously late flights in each week of the year.\n",
    "- Also add in the total number of flights in the data set for each week. \n",
    "\n",
    "Sort the resulting table in descending order of the number of ridiculously late flights and store it in a variable called `table5`. The table should have three columns, `week`, `n`, and `n_ridiculously_late`."
   ]
  },
  {
   "cell_type": "code",
   "execution_count": null,
   "metadata": {
    "deletable": false,
    "nbgrader": {
     "checksum": "ce7012c7dfae905677c09dc134ee6819",
     "grade": false,
     "grade_id": "cell-d6bae11e1d26ffea",
     "locked": false,
     "schema_version": 1,
     "solution": true
    }
   },
   "outputs": [],
   "source": [
    "# YOUR CODE HERE\n",
    "stop()"
   ]
  },
  {
   "cell_type": "code",
   "execution_count": null,
   "metadata": {
    "deletable": false,
    "editable": false,
    "nbgrader": {
     "checksum": "868880d36a7185703ba19a0e06f379c3",
     "grade": true,
     "grade_id": "cell-e44f4d8bb47b1dff",
     "locked": true,
     "points": 2,
     "schema_version": 1,
     "solution": false
    }
   },
   "outputs": [],
   "source": [
    "stopifnot(exists(\"table5\"))"
   ]
  },
  {
   "cell_type": "markdown",
   "metadata": {
    "deletable": false,
    "editable": false,
    "nbgrader": {
     "checksum": "b3bc50f49d64e825eebf2d50df6e2c4b",
     "grade": false,
     "grade_id": "cell-3cce0b58d245c89a",
     "locked": true,
     "schema_version": 1,
     "solution": false
    }
   },
   "source": [
    "#### Problem 6\n",
    "Use your solution in part 5\n",
    "to generate a bar plot, by week, of the number of ridiculously late flights each week. Give your plot an appropriate title and axis labels."
   ]
  },
  {
   "cell_type": "code",
   "execution_count": null,
   "metadata": {
    "deletable": false,
    "nbgrader": {
     "checksum": "6ee668ed841e79a64401901178bb253d",
     "grade": true,
     "grade_id": "cell-eb04a76e779d688a",
     "locked": false,
     "points": 2,
     "schema_version": 1,
     "solution": true
    }
   },
   "outputs": [],
   "source": [
    "# YOUR CODE HERE\n",
    "stop()"
   ]
  },
  {
   "cell_type": "markdown",
   "metadata": {
    "deletable": false,
    "editable": false,
    "nbgrader": {
     "checksum": "f26baed5f675279349daf70da31f3d66",
     "grade": false,
     "grade_id": "cell-476b8bff101f096e",
     "locked": true,
     "schema_version": 1,
     "solution": false
    }
   },
   "source": [
    "#### Problem 7\n",
    "Your plot in problem 6 should have a curious feature: in a couple of weeks there were far fewer ridiculously late flights than the rest. \n",
    "- Investigate this further by determining the fraction arrival delay times which were missing in each week. \n",
    "- Additionally, rank each week by this fraction. The week with the highest fraction of missing arrival delay times should have rank one, second highest rank two, and so on.\n",
    "\n",
    "Store the result in a variable called `table7`. \n",
    "Your table should have three columns: `week`, `p_miss_arr_delay` and `rank`."
   ]
  },
  {
   "cell_type": "code",
   "execution_count": null,
   "metadata": {
    "deletable": false,
    "nbgrader": {
     "checksum": "adb07223255e21cf7995ffe01dfc64b4",
     "grade": false,
     "grade_id": "cell-d1e32899d644c7c6",
     "locked": false,
     "schema_version": 1,
     "solution": true
    }
   },
   "outputs": [],
   "source": [
    "# YOUR CODE HERE\n",
    "stop()"
   ]
  },
  {
   "cell_type": "code",
   "execution_count": null,
   "metadata": {
    "deletable": false,
    "editable": false,
    "nbgrader": {
     "checksum": "94740953dc3cdad6712c381e019ee113",
     "grade": true,
     "grade_id": "cell-98c257ae3838a00c",
     "locked": true,
     "points": 2,
     "schema_version": 1,
     "solution": false
    }
   },
   "outputs": [],
   "source": [
    "stopifnot(exists(\"table7\"))"
   ]
  },
  {
   "cell_type": "markdown",
   "metadata": {
    "deletable": false,
    "editable": false,
    "nbgrader": {
     "checksum": "ab549208d20f9ca907fc417a9e99987f",
     "grade": false,
     "grade_id": "cell-d9c8706b679d2259",
     "locked": true,
     "schema_version": 1,
     "solution": false
    }
   },
   "source": [
    "#### Problem 8\n",
    "For the week with the highest fraction of missing arrival times in problem 6, generate a table `table8` which shows the total number of missing arrival delay values for each day of that week. Your table should have columns `year`, `month`, `day`, and `n_miss_arr_delay` and be sorted by year, month, and day."
   ]
  },
  {
   "cell_type": "code",
   "execution_count": null,
   "metadata": {
    "deletable": false,
    "nbgrader": {
     "checksum": "14f7854e10e937c4f90d477d22eaa87b",
     "grade": false,
     "grade_id": "cell-2fd6d58696f1c786",
     "locked": false,
     "schema_version": 1,
     "solution": true
    }
   },
   "outputs": [],
   "source": [
    "# YOUR CODE HERE\n",
    "stop()"
   ]
  },
  {
   "cell_type": "code",
   "execution_count": null,
   "metadata": {
    "deletable": false,
    "editable": false,
    "nbgrader": {
     "checksum": "e1d7f688ce59c07a5715fbe209ed075c",
     "grade": true,
     "grade_id": "cell-094c56bd86a578f0",
     "locked": true,
     "points": 2,
     "schema_version": 1,
     "solution": false
    }
   },
   "outputs": [],
   "source": [
    "stopifnot(exists(\"table8\"))"
   ]
  },
  {
   "cell_type": "markdown",
   "metadata": {
    "deletable": false,
    "editable": false,
    "nbgrader": {
     "checksum": "ff33f5fdfadaac2732800d00d8bc1610",
     "grade": false,
     "grade_id": "cell-4ee3d500f55c93d2",
     "locked": true,
     "schema_version": 1,
     "solution": false
    }
   },
   "source": [
    "#### Problem 9\n",
    "Two days in `table8` should stand out from the rest. To figure out what is going on, we will pull in some climate data using the package `rnoaa`. You do not need to install this package; I have run the command and saved the output for you."
   ]
  },
  {
   "cell_type": "code",
   "execution_count": null,
   "metadata": {
    "deletable": false,
    "editable": false,
    "nbgrader": {
     "checksum": "989aaae30e2dd3adc490487be04b624d",
     "grade": false,
     "grade_id": "cell-247e57cc9ef7a4f2",
     "locked": true,
     "schema_version": 1,
     "solution": false
    }
   },
   "outputs": [],
   "source": [
    "load('nyc_weather.RData')\n",
    "# this is the output of:\n",
    "# library(rnoaa)\n",
    "# # (daily weather data from Central Park)\n",
    "# nyc_weather = as.tibble(meteo_pull_monitors(\"USW00094728\", \n",
    "#                                  date_min=\"2013-01-01\",\n",
    "#                                  date_max=\"2013-12-31\"))\n",
    "# nyc_weather = mutate(nyc_weather, year=year(date), month=month(date), day=day(date)) %>% \n",
    "#               select(nyc_weather, year, month, day, prcp, snow, tmax) \n",
    "# save(nyc_weather, file=\"nyc_weather.RData\")"
   ]
  },
  {
   "cell_type": "markdown",
   "metadata": {
    "deletable": false,
    "editable": false,
    "nbgrader": {
     "checksum": "29ea09bae7a5e9cd2db9e716a9382d08",
     "grade": false,
     "grade_id": "cell-ffaa01da3e100434",
     "locked": true,
     "schema_version": 1,
     "solution": false
    }
   },
   "source": [
    "The table `nyc_weather` contains daily weather observations from Central Park in New York City. We need to merge this information in with the table you obtained in the previous exercise. Since we have not covered merges yet, the command to do so is provided for you:"
   ]
  },
  {
   "cell_type": "code",
   "execution_count": null,
   "metadata": {
    "deletable": false,
    "editable": false,
    "nbgrader": {
     "checksum": "fc12e71010874db41892eaad5e0631b4",
     "grade": false,
     "grade_id": "cell-d4fb478b6db3999a",
     "locked": true,
     "schema_version": 1,
     "solution": false
    }
   },
   "outputs": [],
   "source": [
    "table9 = inner_join(table8, nyc_weather)"
   ]
  },
  {
   "cell_type": "markdown",
   "metadata": {
    "deletable": false,
    "editable": false,
    "nbgrader": {
     "checksum": "86f54d71cca585e43fdcb43200d28ae9",
     "grade": false,
     "grade_id": "cell-8b0a3121df413611",
     "locked": true,
     "schema_version": 1,
     "solution": false
    }
   },
   "source": [
    "Use `table9` to generate a bar plot of total snowfall for each day of the week in question. Add to this plot a line showing the total number of flights with missing arrival times for each day."
   ]
  },
  {
   "cell_type": "code",
   "execution_count": null,
   "metadata": {
    "deletable": false,
    "nbgrader": {
     "checksum": "7a3702275bfc8b1c487c557f1e90b005",
     "grade": true,
     "grade_id": "cell-c35dddafbc3ebee6",
     "locked": false,
     "points": 2,
     "schema_version": 1,
     "solution": true
    }
   },
   "outputs": [],
   "source": [
    "# YOUR CODE HERE\n",
    "stop()"
   ]
  },
  {
   "cell_type": "markdown",
   "metadata": {
    "deletable": false,
    "editable": false,
    "nbgrader": {
     "checksum": "95a156762679993f0edbb030c84c25b3",
     "grade": false,
     "grade_id": "cell-aa1bbd89312abb40",
     "locked": true,
     "schema_version": 1,
     "solution": false
    }
   },
   "source": [
    "#### Problem 10\n",
    "In your own words, summarize your findings from problems 8-10. What do `NA`s for arrival and departure delay likely represent in these data?"
   ]
  },
  {
   "cell_type": "markdown",
   "metadata": {
    "deletable": false,
    "nbgrader": {
     "checksum": "8c15b9861b62da62e8a1b1a8b1f080bf",
     "grade": true,
     "grade_id": "cell-0f644a04d6dd307f",
     "locked": false,
     "points": 2,
     "schema_version": 1,
     "solution": true
    }
   },
   "source": [
    "YOUR ANSWER HERE"
   ]
  }
 ],
 "metadata": {
  "kernelspec": {
   "display_name": "R",
   "language": "R",
   "name": "ir"
  },
  "language_info": {
   "codemirror_mode": "r",
   "file_extension": ".r",
   "mimetype": "text/x-r-source",
   "name": "R",
   "pygments_lexer": "r",
   "version": "3.4.2"
  }
 },
 "nbformat": 4,
 "nbformat_minor": 2
}
