{
 "cells": [
  {
   "cell_type": "markdown",
   "metadata": {},
   "source": [
    "Before you turn this problem in, make sure everything runs as expected. First, **restart the kernel** (in the menubar, select Kernel$\\rightarrow$Restart) and then **run all cells** (in the menubar, select Cell$\\rightarrow$Run All). Your code should run from top to bottom with no errors. Failure to do this will result in loss of points.\n",
    "\n",
    "Make sure you fill in any place that says `YOUR CODE HERE` or \"YOUR ANSWER HERE\" and delete the `stop()` functions, as well as your name and collaborators below:"
   ]
  },
  {
   "cell_type": "code",
   "execution_count": null,
   "metadata": {
    "collapsed": true
   },
   "outputs": [],
   "source": [
    "NAME = \"marcojim\"  # your uniqname \n",
    "COLLABORATORS = c()  # vector of uniqnames of your collaborators, if any\n",
    "## IMPORTANT: also enter your group information in Canvas when you upload the assignment"
   ]
  },
  {
   "cell_type": "markdown",
   "metadata": {},
   "source": [
    "---"
   ]
  },
  {
   "cell_type": "code",
   "execution_count": 1,
   "metadata": {},
   "outputs": [
    {
     "name": "stderr",
     "output_type": "stream",
     "text": [
      "Warning message:\n",
      "\"package 'tidyverse' was built under R version 3.4.3\"-- Attaching packages --------------------------------------- tidyverse 1.2.1 --\n",
      "v ggplot2 2.2.1     v purrr   0.2.4\n",
      "v tibble  1.4.1     v dplyr   0.7.4\n",
      "v tidyr   0.7.2     v stringr 1.2.0\n",
      "v readr   1.1.1     v forcats 0.2.0\n",
      "Warning message:\n",
      "\"package 'ggplot2' was built under R version 3.4.3\"Warning message:\n",
      "\"package 'tibble' was built under R version 3.4.3\"Warning message:\n",
      "\"package 'tidyr' was built under R version 3.4.3\"Warning message:\n",
      "\"package 'readr' was built under R version 3.4.3\"Warning message:\n",
      "\"package 'purrr' was built under R version 3.4.3\"Warning message:\n",
      "\"package 'dplyr' was built under R version 3.4.3\"Warning message:\n",
      "\"package 'forcats' was built under R version 3.4.3\"-- Conflicts ------------------------------------------ tidyverse_conflicts() --\n",
      "x dplyr::filter() masks stats::filter()\n",
      "x dplyr::lag()    masks stats::lag()\n",
      "Warning message:\n",
      "\"package 'nycflights13' was built under R version 3.4.3\""
     ]
    }
   ],
   "source": [
    "library(tidyverse)\n",
    "library(nycflights13)\n"
   ]
  },
  {
   "cell_type": "markdown",
   "metadata": {
    "deletable": false,
    "editable": false,
    "nbgrader": {
     "checksum": "e0f6037d76d11c41888c1b43f67d8ad2",
     "grade": false,
     "grade_id": "cell-b2019ef39daf039d",
     "locked": true,
     "schema_version": 1,
     "solution": false
    }
   },
   "source": [
    "# STATS 306\n",
    "## Problem set 3: data manipulation II\n",
    "These questions again focus on the `flights` dataset. Each question is worth two points, for a total of 20.\n",
    "\n",
    "*Note*: you do not need to use `install.packages()` in this notebook. You may assume that we have already installed all of the necessary packages when we run your code."
   ]
  },
  {
   "cell_type": "markdown",
   "metadata": {
    "deletable": false,
    "editable": false,
    "nbgrader": {
     "checksum": "066ebb016daa163d8dc88d52305b08a5",
     "grade": false,
     "grade_id": "cell-20275bba9d88d940",
     "locked": true,
     "schema_version": 1,
     "solution": false
    }
   },
   "source": [
    "#### Problem 1\n",
    "Recall that each airplane has a unique tail number given by `tailnum`. Find the tail number of the airplane which flew to the largest number of unique destinations from NYC airports in 2013. Store the string containing this tail number in a variable called `most_dests`."
   ]
  },
  {
   "cell_type": "code",
   "execution_count": 23,
   "metadata": {
    "deletable": false,
    "nbgrader": {
     "checksum": "7960c47ea7c427d277f239d8fd3d6627",
     "grade": false,
     "grade_id": "cell-e537b3c48f99f487",
     "locked": false,
     "schema_version": 1,
     "solution": true
    }
   },
   "outputs": [
    {
     "name": "stdout",
     "output_type": "stream",
     "text": [
      "[1] \"N520JB\" \"N531JB\" \"N606JB\"\n"
     ]
    }
   ],
   "source": [
    "# YOUR CODE HERE\n",
    "\n",
    "flights %>% filter(origin==\"JFK\" | origin==\"LGA\", !is.na(tailnum)) %>% group_by(tailnum) %>%\n",
    "    summarise(number_dest = n_distinct(dest)) %>% top_n(1,number_dest) -> flight_info\n",
    "most_dest <- flight_info$tailnum"
   ]
  },
  {
   "cell_type": "code",
   "execution_count": null,
   "metadata": {
    "collapsed": true,
    "deletable": false,
    "editable": false,
    "nbgrader": {
     "checksum": "568c62ef4d6fa3908c900b1e7caa6c7a",
     "grade": true,
     "grade_id": "cell-1ffbbc74bad522fc",
     "locked": true,
     "points": 2,
     "schema_version": 1,
     "solution": false
    }
   },
   "outputs": [],
   "source": [
    "stopifnot(exists(\"most_dests\"))"
   ]
  },
  {
   "cell_type": "markdown",
   "metadata": {
    "deletable": false,
    "editable": false,
    "nbgrader": {
     "checksum": "03706a01c030884a226e0434db01bd05",
     "grade": false,
     "grade_id": "cell-897493f201837de6",
     "locked": true,
     "schema_version": 1,
     "solution": false
    }
   },
   "source": [
    "#### Problem 2\n",
    "Define a new table `flights2` obtained by adding a new column `dow` equal to the day of the week on which that flight took place. For example, the first flight in `flights` took place on Tuesday, January 1, 2013, so the first entry of column `dow` should equal `Tuesday`."
   ]
  },
  {
   "cell_type": "code",
   "execution_count": 26,
   "metadata": {
    "collapsed": true,
    "deletable": false,
    "nbgrader": {
     "checksum": "c6f5456f2956ba29c977222a52abc068",
     "grade": false,
     "grade_id": "cell-7c06188bbda9e82d",
     "locked": false,
     "schema_version": 1,
     "solution": true
    }
   },
   "outputs": [],
   "source": [
    "flights %>% mutate(dow = weekdays(as.Date(paste(day,month,year,sep=\"-\"),'%d-%m-%Y'))) ->flights2"
   ]
  },
  {
   "cell_type": "code",
   "execution_count": null,
   "metadata": {
    "collapsed": true,
    "deletable": false,
    "editable": false,
    "nbgrader": {
     "checksum": "13ab26c40443a818b653b89d3c210fd4",
     "grade": true,
     "grade_id": "cell-7c5abf5a3d94c291",
     "locked": true,
     "points": 2,
     "schema_version": 1,
     "solution": false
    }
   },
   "outputs": [],
   "source": [
    "stopifnot(exists(\"flights2\"))"
   ]
  },
  {
   "cell_type": "markdown",
   "metadata": {
    "deletable": false,
    "editable": false,
    "nbgrader": {
     "checksum": "f4902cac2e5fc3e9fa9325311668430e",
     "grade": false,
     "grade_id": "cell-d125db755580f259",
     "locked": true,
     "schema_version": 1,
     "solution": false
    }
   },
   "source": [
    "#### Problem 3\n",
    "Define a new table `flights3` by adding a new column `doy` equal to the numerical day of the year in which that flight took place. For example, the final flight in `flights` took place during on December 31st, so since 2013 was not a leap year, the final entry of `doy` should equal 365."
   ]
  },
  {
   "cell_type": "code",
   "execution_count": 27,
   "metadata": {
    "deletable": false,
    "nbgrader": {
     "checksum": "35b0142bebda33eac691623d17585afb",
     "grade": false,
     "grade_id": "cell-57b075b584e237dc",
     "locked": false,
     "schema_version": 1,
     "solution": true
    }
   },
   "outputs": [
    {
     "name": "stdout",
     "output_type": "stream",
     "text": [
      "# A tibble: 993 x 20\n",
      "    year month   day dep_time sched_dep_time dep_delay arr_time sched_arr_time\n",
      "   <int> <int> <int>    <int>          <int>     <dbl>    <int>          <int>\n",
      " 1  2013     9    30      453            500     -7.00      621            648\n",
      " 2  2013     9    30      516            517     -1.00      734            757\n",
      " 3  2013     9    30      540            545     -5.00      821            855\n",
      " 4  2013     9    30      540            545     -5.00      918            933\n",
      " 5  2013     9    30      549            550     -1.00      911            932\n",
      " 6  2013     9    30      549            545      4.00      825            827\n",
      " 7  2013     9    30      551            600     -9.00      827            851\n",
      " 8  2013     9    30      552            600     -8.00      820            827\n",
      " 9  2013     9    30      552            600     -8.00      650            708\n",
      "10  2013     9    30      552            600     -8.00      647            700\n",
      "# ... with 983 more rows, and 12 more variables: arr_delay <dbl>, carrier\n",
      "#   <chr>, flight <int>, tailnum <chr>, origin <chr>, dest <chr>, air_time\n",
      "#   <dbl>, distance <dbl>, hour <dbl>, minute <dbl>, time_hour <dttm>, doy\n",
      "#   <chr>\n"
     ]
    }
   ],
   "source": [
    "\n",
    "flights %>% mutate(doy = format(as.Date(paste(day,month,year,sep=\"-\"),'%d-%m-%Y'),\"%j\")) -> flights3\n",
    "print(filter(flights3,doy==273))\n",
    "# YOUR CODE HERE\n"
   ]
  },
  {
   "cell_type": "code",
   "execution_count": null,
   "metadata": {
    "collapsed": true,
    "deletable": false,
    "editable": false,
    "nbgrader": {
     "checksum": "58dca20681550eb97b5c263f5f74b090",
     "grade": true,
     "grade_id": "cell-ba289f455c63d61f",
     "locked": true,
     "points": 2,
     "schema_version": 1,
     "solution": false
    }
   },
   "outputs": [],
   "source": [
    "stopifnot(exists('flights3'))"
   ]
  },
  {
   "cell_type": "markdown",
   "metadata": {
    "deletable": false,
    "editable": false,
    "nbgrader": {
     "checksum": "3023e47366d65293dd37300b50f3830f",
     "grade": false,
     "grade_id": "cell-0e8abf21f2ba96ea",
     "locked": true,
     "schema_version": 1,
     "solution": false
    }
   },
   "source": [
    "#### Problem 4\n",
    "Use your solution from problem 2 to define a new variable `week` such that  `week=1` for `doy=1,2,...,7`, `week=2` for `doy=8,...,14`, etc. Store the resulting table in a variable called `flights4`."
   ]
  },
  {
   "cell_type": "code",
   "execution_count": 29,
   "metadata": {
    "deletable": false,
    "nbgrader": {
     "checksum": "dab22a1d104185754a0be52ffc0a6c67",
     "grade": false,
     "grade_id": "cell-59e38f81ba41d20c",
     "locked": false,
     "schema_version": 1,
     "solution": true
    }
   },
   "outputs": [
    {
     "name": "stdout",
     "output_type": "stream",
     "text": [
      "# A tibble: 6,734 x 21\n",
      "    year month   day dep_time sched_dep_time dep_delay arr_time sched_arr_time\n",
      "   <int> <int> <int>    <int>          <int>     <dbl>    <int>          <int>\n",
      " 1  2013     7    29        5           2359      6.00      403            340\n",
      " 2  2013     7    29      310           2305    245         402             13\n",
      " 3  2013     7    29      502            500      2.00      640            640\n",
      " 4  2013     7    29      515            515      0         746            725\n",
      " 5  2013     7    29      541            545   -  4.00      928            921\n",
      " 6  2013     7    29      547            536     11.0       803            806\n",
      " 7  2013     7    29      548            540      8.00      845            840\n",
      " 8  2013     7    29      553            600   -  7.00      817            830\n",
      " 9  2013     7    29      554            600   -  6.00      713            711\n",
      "10  2013     7    29      554            600   -  6.00      653            655\n",
      "# ... with 6,724 more rows, and 13 more variables: arr_delay <dbl>, carrier\n",
      "#   <chr>, flight <int>, tailnum <chr>, origin <chr>, dest <chr>, air_time\n",
      "#   <dbl>, distance <dbl>, hour <dbl>, minute <dbl>, time_hour <dttm>, doy\n",
      "#   <chr>, week <dbl>\n"
     ]
    }
   ],
   "source": [
    "flights4 = mutate(flights3, week = as.numeric(doy)%/%7 )\n",
    "print(filter(flights4,week==30))"
   ]
  },
  {
   "cell_type": "code",
   "execution_count": null,
   "metadata": {
    "collapsed": true,
    "deletable": false,
    "editable": false,
    "nbgrader": {
     "checksum": "6b135d6810361013f04d4a59ed724e47",
     "grade": true,
     "grade_id": "cell-54ca217e5bc56aa8",
     "locked": true,
     "points": 0,
     "schema_version": 1,
     "solution": false
    }
   },
   "outputs": [],
   "source": [
    "stopifnot(exists(\"flights4\"))"
   ]
  },
  {
   "cell_type": "markdown",
   "metadata": {
    "deletable": false,
    "editable": false,
    "nbgrader": {
     "checksum": "a2ab902c8cec464dc15a3c32643bf177",
     "grade": false,
     "grade_id": "cell-445c03b12c5f570f",
     "locked": true,
     "schema_version": 1,
     "solution": false
    }
   },
   "source": [
    "#### Problem 5\n",
    "Let a flight's \"positive arrival delay\" be defined as the larger of `arr_delay` and zero. We say a flight is *ridiculously late* if its arrival delay was more than ten times the average positive arrival delay for all flights in that week.\n",
    "- Use your solution from problem 4 to calculate the number of ridiculously late flights in each week of the year.\n",
    "- Also add in the total number of flights in the data set for each week. \n",
    "\n",
    "Sort the resulting table in descending order of the number of ridiculously late flights and store it in a variable called `table5`. The table should have three columns, `week`, `n`, and `n_ridiculously_late`."
   ]
  },
  {
   "cell_type": "code",
   "execution_count": 35,
   "metadata": {
    "deletable": false,
    "nbgrader": {
     "checksum": "ce7012c7dfae905677c09dc134ee6819",
     "grade": false,
     "grade_id": "cell-d6bae11e1d26ffea",
     "locked": false,
     "schema_version": 1,
     "solution": true
    }
   },
   "outputs": [
    {
     "name": "stdout",
     "output_type": "stream",
     "text": [
      "# A tibble: 336,776 x 22\n",
      "# Groups: week [53]\n",
      "    year month   day dep_time sched_dep_time dep_delay arr_time sched_arr_time\n",
      "   <int> <int> <int>    <int>          <int>     <dbl>    <int>          <int>\n",
      " 1  2013     1     1      517            515      2.00      830            819\n",
      " 2  2013     1     1      533            529      4.00      850            830\n",
      " 3  2013     1     1      542            540      2.00      923            850\n",
      " 4  2013     1     1      544            545     -1.00     1004           1022\n",
      " 5  2013     1     1      554            600     -6.00      812            837\n",
      " 6  2013     1     1      554            558     -4.00      740            728\n",
      " 7  2013     1     1      555            600     -5.00      913            854\n",
      " 8  2013     1     1      557            600     -3.00      709            723\n",
      " 9  2013     1     1      557            600     -3.00      838            846\n",
      "10  2013     1     1      558            600     -2.00      753            745\n",
      "# ... with 336,766 more rows, and 14 more variables: arr_delay <dbl>, carrier\n",
      "#   <chr>, flight <int>, tailnum <chr>, origin <chr>, dest <chr>, air_time\n",
      "#   <dbl>, distance <dbl>, hour <dbl>, minute <dbl>, time_hour <dttm>, doy\n",
      "#   <chr>, week <dbl>, avg_arr_delay_per_week <dbl>\n",
      "   week n_ridiculously_late    n\n",
      "1     0                 324 5166\n",
      "2     1                5129 6114\n",
      "3     2                 323 6034\n",
      "4     3                 268 6049\n",
      "5     4                 322 6063\n",
      "6     5                 327 6104\n",
      "7     6                 467 6236\n",
      "8     7                 382 6381\n",
      "9     8                1134 6444\n",
      "10    9                 289 6546\n",
      "11   10                 542 6555\n",
      "12   11                 186 6547\n",
      "13   12                6407 6550\n",
      "14   13                 860 6592\n",
      "15   14                 222 6613\n",
      "16   15                 237 6622\n",
      "17   16                  74 6560\n",
      "18   17                6453 6525\n",
      "19   18                 522 6493\n",
      "20   19                2831 6523\n",
      "21   20                 183 6340\n",
      "22   21                1962 6523\n",
      "23   22                 487 6550\n",
      "24   23                 180 6647\n",
      "25   24                 351 6680\n",
      "26   25                  21 6701\n",
      "27   26                 203 6192\n",
      "28   27                 110 6759\n",
      "29   28                 540 6737\n",
      "30   29                  72 6740\n",
      "31   30                 307 6734\n",
      "32   31                 141 6733\n",
      "33   32                 393 6685\n",
      "34   33                5876 6628\n",
      "35   34                5069 6262\n",
      "36   35                6222 6365\n",
      "37   36                 725 6473\n",
      "38   37                6423 6508\n",
      "39   38                6467 6517\n",
      "40   39                6497 6527\n",
      "41   40                 524 6495\n",
      "42   41                3066 6511\n",
      "43   42                1536 6506\n",
      "44   43                3061 6420\n",
      "45   44                1994 6505\n",
      "46   45                3271 6515\n",
      "47   46                1058 6574\n",
      "48   47                2554 6084\n",
      "49   48                 162 6440\n",
      "50   49                  55 6369\n",
      "51   50                  63 6529\n",
      "52   51                 330 6066\n",
      "53   52                  66 1744\n"
     ]
    }
   ],
   "source": [
    "flights4 %>% group_by(week) %>% mutate(avg_arr_delay_per_week=mean(arr_delay,na.rm=TRUE)) -> table_avg_arr_delay_per_week\n",
    "print(table_avg_arr_delay_per_week)\n",
    "table_avg_arr_delay_per_week %>% group_by(week) %>% filter(arr_delay > 10*avg_arr_delay_per_week) %>%\n",
    "    count -> table51\n",
    "colnames(table51) <- c(\"week\", \"n_ridiculously_late\")\n",
    "table_avg_arr_delay_per_week %>% group_by(week) %>% count -> table52\n",
    "table5 = merge(table51,table52)\n",
    "print(table5)"
   ]
  },
  {
   "cell_type": "code",
   "execution_count": null,
   "metadata": {
    "collapsed": true,
    "deletable": false,
    "editable": false,
    "nbgrader": {
     "checksum": "868880d36a7185703ba19a0e06f379c3",
     "grade": true,
     "grade_id": "cell-e44f4d8bb47b1dff",
     "locked": true,
     "points": 2,
     "schema_version": 1,
     "solution": false
    }
   },
   "outputs": [],
   "source": [
    "stopifnot(exists(\"table5\"))"
   ]
  },
  {
   "cell_type": "markdown",
   "metadata": {
    "deletable": false,
    "editable": false,
    "nbgrader": {
     "checksum": "b3bc50f49d64e825eebf2d50df6e2c4b",
     "grade": false,
     "grade_id": "cell-3cce0b58d245c89a",
     "locked": true,
     "schema_version": 1,
     "solution": false
    }
   },
   "source": [
    "#### Problem 6\n",
    "Use your solution in part 5\n",
    "to generate a bar plot, by week, of the number of ridiculously late flights each week. Give your plot an appropriate title and axis labels."
   ]
  },
  {
   "cell_type": "code",
   "execution_count": 36,
   "metadata": {
    "deletable": false,
    "nbgrader": {
     "checksum": "6ee668ed841e79a64401901178bb253d",
     "grade": true,
     "grade_id": "cell-eb04a76e779d688a",
     "locked": false,
     "points": 2,
     "schema_version": 1,
     "solution": true
    }
   },
   "outputs": [
    {
     "data": {},
     "metadata": {},
     "output_type": "display_data"
    },
    {
     "data": {
      "image/png": "[encoded data removed]",
      "text/plain": [
       "plot without title"
      ]
     },
     "metadata": {},
     "output_type": "display_data"
    }
   ],
   "source": [
    "ggplot(data = table5) +\n",
    "  geom_bar(mapping = aes(x = week,y = n_ridiculously_late), stat = \"identity\") + \n",
    "  xlab(\"Week of the year\") + ylab(\"Number of ridiculously late fligths\")\n"
   ]
  },
  {
   "cell_type": "markdown",
   "metadata": {
    "deletable": false,
    "editable": false,
    "nbgrader": {
     "checksum": "f26baed5f675279349daf70da31f3d66",
     "grade": false,
     "grade_id": "cell-476b8bff101f096e",
     "locked": true,
     "schema_version": 1,
     "solution": false
    }
   },
   "source": [
    "#### Problem 7\n",
    "Your plot in problem 6 should have a curious feature: in a couple of weeks there were far fewer ridiculously late flights than the rest. \n",
    "- Investigate this further by determining the fraction arrival delay times which were missing in each week. \n",
    "- Additionally, rank each week by this fraction. The week with the highest fraction of missing arrival delay times should have rank one, second highest rank two, and so on.\n",
    "\n",
    "Store the result in a variable called `table7`. \n",
    "Your table should have three columns: `week`, `p_miss_arr_delay` and `rank`."
   ]
  },
  {
   "cell_type": "code",
   "execution_count": 57,
   "metadata": {
    "deletable": false,
    "nbgrader": {
     "checksum": "adb07223255e21cf7995ffe01dfc64b4",
     "grade": false,
     "grade_id": "cell-d1e32899d644c7c6",
     "locked": false,
     "schema_version": 1,
     "solution": true
    }
   },
   "outputs": [
    {
     "name": "stdout",
     "output_type": "stream",
     "text": [
      "   week p_miss_arr_delay rank\n",
      "1     0      0.010259388   42\n",
      "2     1      0.010631338   40\n",
      "3     2      0.016572754   33\n",
      "4     3      0.018184824   30\n",
      "5     4      0.052944087    9\n",
      "6     5      0.154816514    1\n",
      "7     6      0.022289929   23\n",
      "8     7      0.015984955   36\n",
      "9     8      0.022036002   24\n",
      "10    9      0.081271005    3\n",
      "11   10      0.016475973   34\n",
      "12   11      0.022300290   22\n",
      "13   12      0.017557252   32\n",
      "14   13      0.005157767   51\n",
      "15   14      0.042643278   11\n",
      "16   15      0.040924192   12\n",
      "17   16      0.025304878   16\n",
      "18   17      0.008122605   47\n",
      "19   18      0.023563838   20\n",
      "20   19      0.007818488   48\n",
      "21   20      0.057570978    5\n",
      "22   21      0.023608769   19\n",
      "23   22      0.020763359   26\n",
      "24   23      0.035956070   13\n",
      "25   24      0.019161677   28\n",
      "26   25      0.085061931    2\n",
      "27   26      0.034076227   14\n",
      "28   27      0.053410268    8\n",
      "29   28      0.021226065   25\n",
      "30   29      0.056083086    6\n",
      "31   30      0.022869023   21\n",
      "32   31      0.025100252   17\n",
      "33   32      0.016155572   35\n",
      "34   33      0.011315631   38\n",
      "35   34      0.017566273   31\n",
      "36   35      0.020109976   27\n",
      "37   36      0.047273289   10\n",
      "38   37      0.010295022   41\n",
      "39   38      0.007672242   49\n",
      "40   39      0.004596292   53\n",
      "41   40      0.024634334   18\n",
      "42   41      0.004914760   52\n",
      "43   42      0.005225945   50\n",
      "44   43      0.013395639   37\n",
      "45   44      0.009377402   45\n",
      "46   45      0.008595549   46\n",
      "47   46      0.009887435   43\n",
      "48   47      0.009697567   44\n",
      "49   48      0.054037267    7\n",
      "50   49      0.076621134    4\n",
      "51   50      0.026344004   15\n",
      "52   51      0.011045170   39\n",
      "53   52      0.018348624   29\n"
     ]
    }
   ],
   "source": [
    "flights4 %>% filter(is.na(arr_delay)) %>% group_by(week) %>% count -> number_of_arr_delay_missing\n",
    "colnames(number_of_arr_delay_missing) <- c(\"week\", \"arr_delay_missing\")\n",
    "flights4 %>% group_by(week) %>% count -> flights_per_week\n",
    "above2 = merge(number_of_arr_delay_missing,flights_per_week)\n",
    "above2 %>% mutate(p_miss_arr_delay = arr_delay_missing/n) %>% select(week,p_miss_arr_delay) -> table7\n",
    "table7 %>% mutate(zz = 1-p_miss_arr_delay)%>% mutate(rank(zz)) ->table7\n",
    "colnames(table7) <- c(\"week\",\"p_miss_arr_delay\",\"zz\",\"rank\")\n",
    "table7 <- select(table7,week, p_miss_arr_delay,rank)\n",
    "print(table7)"
   ]
  },
  {
   "cell_type": "code",
   "execution_count": null,
   "metadata": {
    "collapsed": true,
    "deletable": false,
    "editable": false,
    "nbgrader": {
     "checksum": "94740953dc3cdad6712c381e019ee113",
     "grade": true,
     "grade_id": "cell-98c257ae3838a00c",
     "locked": true,
     "points": 2,
     "schema_version": 1,
     "solution": false
    }
   },
   "outputs": [],
   "source": [
    "stopifnot(exists(\"table7\"))"
   ]
  },
  {
   "cell_type": "markdown",
   "metadata": {
    "deletable": false,
    "editable": false,
    "nbgrader": {
     "checksum": "ab549208d20f9ca907fc417a9e99987f",
     "grade": false,
     "grade_id": "cell-d9c8706b679d2259",
     "locked": true,
     "schema_version": 1,
     "solution": false
    }
   },
   "source": [
    "#### Problem 8\n",
    "For the week with the highest fraction of missing arrival times in problem 6, generate a table `table8` which shows the total number of missing arrival delay values for each day of that week. Your table should have columns `year`, `month`, `day`, and `n_miss_arr_delay` and be sorted by year, month, and day."
   ]
  },
  {
   "cell_type": "code",
   "execution_count": 69,
   "metadata": {
    "deletable": false,
    "nbgrader": {
     "checksum": "14f7854e10e937c4f90d477d22eaa87b",
     "grade": false,
     "grade_id": "cell-2fd6d58696f1c786",
     "locked": false,
     "schema_version": 1,
     "solution": true
    }
   },
   "outputs": [
    {
     "name": "stdout",
     "output_type": "stream",
     "text": [
      "# A tibble: 7 x 4\n",
      "# Groups: year, day [7]\n",
      "   year   day month n_miss_arr_delay\n",
      "  <int> <int> <int>            <int>\n",
      "1  2013     4     2               14\n",
      "2  2013     5     2               19\n",
      "3  2013     6     2                9\n",
      "4  2013     7     2                7\n",
      "5  2013     8     2              475\n",
      "6  2013     9     2              393\n",
      "7  2013    10     2               28\n"
     ]
    }
   ],
   "source": [
    "filter(flights4, week==5, is.na(arr_delay)) %>%  group_by(year,day,month) -> tx\n",
    "tx %>% summarise(n_miss_arr_delay = n()) %>% arrange(year,day,month) ->table8\n",
    "print(table8)\n"
   ]
  },
  {
   "cell_type": "code",
   "execution_count": null,
   "metadata": {
    "collapsed": true,
    "deletable": false,
    "editable": false,
    "nbgrader": {
     "checksum": "e1d7f688ce59c07a5715fbe209ed075c",
     "grade": true,
     "grade_id": "cell-094c56bd86a578f0",
     "locked": true,
     "points": 2,
     "schema_version": 1,
     "solution": false
    }
   },
   "outputs": [],
   "source": [
    "stopifnot(exists(\"table8\"))"
   ]
  },
  {
   "cell_type": "markdown",
   "metadata": {
    "deletable": false,
    "editable": false,
    "nbgrader": {
     "checksum": "ff33f5fdfadaac2732800d00d8bc1610",
     "grade": false,
     "grade_id": "cell-4ee3d500f55c93d2",
     "locked": true,
     "schema_version": 1,
     "solution": false
    }
   },
   "source": [
    "#### Problem 9\n",
    "Two days in `table8` should stand out from the rest. To figure out what is going on, we will pull in some climate data using the package `rnoaa`. You do not need to install this package; I have run the command and saved the output for you."
   ]
  },
  {
   "cell_type": "code",
   "execution_count": 70,
   "metadata": {
    "collapsed": true,
    "deletable": false,
    "editable": false,
    "nbgrader": {
     "checksum": "989aaae30e2dd3adc490487be04b624d",
     "grade": false,
     "grade_id": "cell-247e57cc9ef7a4f2",
     "locked": true,
     "schema_version": 1,
     "solution": false
    }
   },
   "outputs": [],
   "source": [
    "load('nyc_weather.RData')\n",
    "# this is the output of:\n",
    "# library(rnoaa)\n",
    "# # (daily weather data from Central Park)\n",
    "# nyc_weather = as.tibble(meteo_pull_monitors(\"USW00094728\", \n",
    "#                                  date_min=\"2013-01-01\",\n",
    "#                                  date_max=\"2013-12-31\"))\n",
    "# nyc_weather = mutate(nyc_weather, year=year(date), month=month(date), day=day(date)) %>% \n",
    "#               select(nyc_weather, year, month, day, prcp, snow, tmax) \n",
    "# save(nyc_weather, file=\"nyc_weather.RData\")"
   ]
  },
  {
   "cell_type": "markdown",
   "metadata": {
    "deletable": false,
    "editable": false,
    "nbgrader": {
     "checksum": "29ea09bae7a5e9cd2db9e716a9382d08",
     "grade": false,
     "grade_id": "cell-ffaa01da3e100434",
     "locked": true,
     "schema_version": 1,
     "solution": false
    }
   },
   "source": [
    "The table `nyc_weather` contains daily weather observations from Central Park in New York City. We need to merge this information in with the table you obtained in the previous exercise. Since we have not covered merges yet, the command to do so is provided for you:"
   ]
  },
  {
   "cell_type": "code",
   "execution_count": 71,
   "metadata": {
    "deletable": false,
    "editable": false,
    "nbgrader": {
     "checksum": "fc12e71010874db41892eaad5e0631b4",
     "grade": false,
     "grade_id": "cell-d4fb478b6db3999a",
     "locked": true,
     "schema_version": 1,
     "solution": false
    }
   },
   "outputs": [
    {
     "name": "stderr",
     "output_type": "stream",
     "text": [
      "Joining, by = c(\"year\", \"day\", \"month\")\n"
     ]
    }
   ],
   "source": [
    "table9 = inner_join(table8, nyc_weather)"
   ]
  },
  {
   "cell_type": "markdown",
   "metadata": {
    "deletable": false,
    "editable": false,
    "nbgrader": {
     "checksum": "86f54d71cca585e43fdcb43200d28ae9",
     "grade": false,
     "grade_id": "cell-8b0a3121df413611",
     "locked": true,
     "schema_version": 1,
     "solution": false
    }
   },
   "source": [
    "Use `table9` to generate a bar plot of total snowfall for each day of the week in question. Add to this plot a line showing the total number of flights with missing arrival times for each day."
   ]
  },
  {
   "cell_type": "code",
   "execution_count": 100,
   "metadata": {
    "deletable": false,
    "nbgrader": {
     "checksum": "7a3702275bfc8b1c487c557f1e90b005",
     "grade": true,
     "grade_id": "cell-c35dddafbc3ebee6",
     "locked": false,
     "points": 2,
     "schema_version": 1,
     "solution": true
    },
    "scrolled": true
   },
   "outputs": [
    {
     "name": "stdout",
     "output_type": "stream",
     "text": [
      "# A tibble: 7 x 7\n",
      "# Groups: year, day [?]\n",
      "   year   day month n_miss_arr_delay   prcp  snow  tmax\n",
      "  <dbl> <int> <dbl>            <int>  <dbl> <dbl> <dbl>\n",
      "1  2013     4  2.00               14   0      0   -11.0\n",
      "2  2013     5  2.00               19   5.00  10.0   0  \n",
      "3  2013     6  2.00                9   0      0    39.0\n",
      "4  2013     7  2.00                7   0      0     0  \n",
      "5  2013     8  2.00              475 292    160    11.0\n",
      "6  2013     9  2.00              393  97.0  130     0  \n",
      "7  2013    10  2.00               28   0      0    22.0\n"
     ]
    },
    {
     "data": {},
     "metadata": {},
     "output_type": "display_data"
    },
    {
     "data": {
      "image/png": "[encoded data removed]",
      "text/plain": [
       "plot without title"
      ]
     },
     "metadata": {},
     "output_type": "display_data"
    }
   ],
   "source": [
    "library(ggplot2)\n",
    "print(table9)\n",
    "plot <- ggplot() +\n",
    "  geom_line(data=table9,aes(x=day,y=snow)) \n",
    "plot <- plot + geom_bar(data=table9,mapping=aes(x=day,y=n_miss_arr_delay))\n",
    "plot\n"
   ]
  },
  {
   "cell_type": "markdown",
   "metadata": {
    "deletable": false,
    "editable": false,
    "nbgrader": {
     "checksum": "95a156762679993f0edbb030c84c25b3",
     "grade": false,
     "grade_id": "cell-aa1bbd89312abb40",
     "locked": true,
     "schema_version": 1,
     "solution": false
    }
   },
   "source": [
    "#### Problem 10\n",
    "In your own words, summarize your findings from problems 8-10. What do `NA`s for arrival and departure delay likely represent in these data?"
   ]
  },
  {
   "cell_type": "markdown",
   "metadata": {
    "deletable": false,
    "nbgrader": {
     "checksum": "8c15b9861b62da62e8a1b1a8b1f080bf",
     "grade": true,
     "grade_id": "cell-0f644a04d6dd307f",
     "locked": false,
     "points": 2,
     "schema_version": 1,
     "solution": true
    }
   },
   "source": [
    "It is clear that during the snow storm it was when the arrival delays where not recorded. This is most likely because the plain would not be able to land at the airport during the storm, and therefore, they never arrived to it. "
   ]
  }
 ],
 "metadata": {
  "kernelspec": {
   "display_name": "R",
   "language": "R",
   "name": "ir"
  },
  "language_info": {
   "codemirror_mode": "r",
   "file_extension": ".r",
   "mimetype": "text/x-r-source",
   "name": "R",
   "pygments_lexer": "r",
   "version": "3.4.2"
  }
 },
 "nbformat": 4,
 "nbformat_minor": 2
}
