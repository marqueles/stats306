{
 "cells": [
  {
   "cell_type": "markdown",
   "metadata": {},
   "source": [
    "Before you turn this problem in, make sure everything runs as expected. First, **restart the kernel** (in the menubar, select Kernel$\\rightarrow$Restart) and then **run all cells** (in the menubar, select Cell$\\rightarrow$Run All).\n",
    "\n",
    "Make sure you fill in any place that says `YOUR CODE HERE` or \"YOUR ANSWER HERE\", as well as your name and collaborators below:"
   ]
  },
  {
   "cell_type": "code",
   "execution_count": 14,
   "metadata": {
    "collapsed": true
   },
   "outputs": [],
   "source": [
    "NAME = \"\"  # your uniqname \n",
    "COLLABORATORS = c()  # vector of uniqnames of your collaborators, if any"
   ]
  },
  {
   "cell_type": "markdown",
   "metadata": {},
   "source": [
    "NAME = \"marcojim\""
   ]
  },
  {
   "cell_type": "markdown",
   "metadata": {
    "deletable": false,
    "editable": false,
    "hide_input": false,
    "nbgrader": {
     "checksum": "fb17198a54e80e4bc514fb7c6f2f793f",
     "grade": false,
     "grade_id": "cell-657705e008c701f0",
     "locked": true,
     "schema_version": 1,
     "solution": false
    }
   },
   "source": [
    "# STATS 306\n",
    "## Problem Set 0\n",
    "This problem set is intended to get you up and running with the basics of R, as well as to familiarize you with the notebook format we will be using to submit homework assignments. It will be graded pass/fail only -- full credit is awarded as long as you turn something in.\n",
    "\n",
    "To submit this assignment, complete the notebook cells, save your work (File > Save and Checkpoint), then upload the resulting ``.ipynb`` file to Canvas."
   ]
  },
  {
   "cell_type": "markdown",
   "metadata": {
    "deletable": false,
    "editable": false,
    "nbgrader": {
     "checksum": "95cf702868618d4b91e297f751f26efd",
     "grade": false,
     "grade_id": "cell-cd4e8231f7208991",
     "locked": true,
     "schema_version": 1,
     "solution": false
    }
   },
   "source": [
    "## Mathematical expressions\n",
    "The most basic thing you can do in R is use it as a calculator. Entering a mathematical formula will cause it to be evaluated: "
   ]
  },
  {
   "cell_type": "code",
   "execution_count": 15,
   "metadata": {
    "deletable": false,
    "editable": false,
    "nbgrader": {
     "checksum": "0b8332cbe31d80b7911522df83609bd0",
     "grade": false,
     "grade_id": "cell-6f0646064f2c6e5f",
     "locked": true,
     "schema_version": 1,
     "solution": false
    }
   },
   "outputs": [
    {
     "data": {
      "text/html": [
       "2"
      ],
      "text/latex": [
       "2"
      ],
      "text/markdown": [
       "2"
      ],
      "text/plain": [
       "[1] 2"
      ]
     },
     "metadata": {},
     "output_type": "display_data"
    }
   ],
   "source": [
    "1 + 1"
   ]
  },
  {
   "cell_type": "markdown",
   "metadata": {
    "deletable": false,
    "editable": false,
    "nbgrader": {
     "checksum": "2230adf2e6cc4ec1e9cd4c3544825094",
     "grade": false,
     "grade_id": "cell-e56e8ea96b976a9b",
     "locked": true,
     "schema_version": 1,
     "solution": false
    }
   },
   "source": [
    "(To evaluate a cell in Jupyter notebook, use the menu command Cell > Run Cells, or the keyboard shortcut ``Shift + Enter``.\n",
    "\n",
    "All the standard mathematical functions are supported, e.g.:"
   ]
  },
  {
   "cell_type": "code",
   "execution_count": 16,
   "metadata": {
    "deletable": false,
    "editable": false,
    "nbgrader": {
     "checksum": "48a6b1141d3dd69339319ddd3229af37",
     "grade": false,
     "grade_id": "cell-c0d5278e290fae1c",
     "locked": true,
     "schema_version": 1,
     "solution": false
    }
   },
   "outputs": [
    {
     "data": {
      "text/html": [
       "3.14159265358979"
      ],
      "text/latex": [
       "3.14159265358979"
      ],
      "text/markdown": [
       "3.14159265358979"
      ],
      "text/plain": [
       "[1] 3.141593"
      ]
     },
     "metadata": {},
     "output_type": "display_data"
    },
    {
     "data": {
      "text/html": [
       "-1"
      ],
      "text/latex": [
       "-1"
      ],
      "text/markdown": [
       "-1"
      ],
      "text/plain": [
       "[1] -1"
      ]
     },
     "metadata": {},
     "output_type": "display_data"
    },
    {
     "data": {
      "text/html": [
       "1.22460635382238e-16"
      ],
      "text/latex": [
       "1.22460635382238e-16"
      ],
      "text/markdown": [
       "1.22460635382238e-16"
      ],
      "text/plain": [
       "[1] 1.224606e-16"
      ]
     },
     "metadata": {},
     "output_type": "display_data"
    },
    {
     "data": {
      "text/html": [
       "2.71828182845905"
      ],
      "text/latex": [
       "2.71828182845905"
      ],
      "text/markdown": [
       "2.71828182845905"
      ],
      "text/plain": [
       "[1] 2.718282"
      ]
     },
     "metadata": {},
     "output_type": "display_data"
    },
    {
     "data": {
      "text/html": [
       "0"
      ],
      "text/latex": [
       "0"
      ],
      "text/markdown": [
       "0"
      ],
      "text/plain": [
       "[1] 0"
      ]
     },
     "metadata": {},
     "output_type": "display_data"
    }
   ],
   "source": [
    "pi\n",
    "cos(pi)\n",
    "sin(pi)\n",
    "exp(1)\n",
    "log(1)"
   ]
  },
  {
   "cell_type": "markdown",
   "metadata": {
    "deletable": false,
    "editable": false,
    "nbgrader": {
     "checksum": "2b741d4b57be58a637d14441521ad5eb",
     "grade": false,
     "grade_id": "cell-6a7aa7e681170416",
     "locked": true,
     "schema_version": 1,
     "solution": false
    }
   },
   "source": [
    "(Depending on your computer, ``sin(pi)`` may have printed something unexpected. Why might this be? We will discuss it later in the course.)"
   ]
  },
  {
   "cell_type": "markdown",
   "metadata": {
    "deletable": false,
    "editable": false,
    "nbgrader": {
     "checksum": "15e8d9c1e152c7d15240bb8b9336f602",
     "grade": false,
     "grade_id": "cell-5dca69811364fd7e",
     "locked": true,
     "schema_version": 1,
     "solution": false
    }
   },
   "source": [
    "## Comments\n",
    "Anything following the character \"``#``\" is ignored by the R interpreter. These are called *comments*. Though they are invisible to the machine, they are invaluable for making your code readable to other humans! \n",
    "\n",
    "Try deleting the leading ``#`` in the cell below and see what happens!"
   ]
  },
  {
   "cell_type": "code",
   "execution_count": 17,
   "metadata": {
    "deletable": false,
    "editable": false,
    "nbgrader": {
     "checksum": "e7b9b9d9ff62574707f4dcd79e31336a",
     "grade": false,
     "grade_id": "cell-1de5a68853e5e531",
     "locked": true,
     "schema_version": 1,
     "solution": false
    }
   },
   "outputs": [
    {
     "name": "stdout",
     "output_type": "stream",
     "text": [
      "[1] 1\n"
     ]
    }
   ],
   "source": [
    "# This is a comment. \n",
    "print(1)  # this is another comment"
   ]
  },
  {
   "cell_type": "markdown",
   "metadata": {
    "deletable": false,
    "editable": false,
    "nbgrader": {
     "checksum": "820016f56342c9fcb6fcec7b6bd22bb1",
     "grade": false,
     "grade_id": "cell-ec71dcab83e940e1",
     "locked": true,
     "schema_version": 1,
     "solution": false
    }
   },
   "source": [
    "## Variables\n",
    "Just like in mathematics, *variables* are used to represent values in programming languages. In R, variable names can be a combination of letters, numbers and (certain) punctuation, but they must start with a letter.\n",
    "\n",
    "Most programming languages use the equal sign ``=`` to assign a value to a variable. In R, it is more common to use the arrow operator ``<-`` for this purpose. Both operators do the same thing and you can use which ever one you prefer."
   ]
  },
  {
   "cell_type": "code",
   "execution_count": 18,
   "metadata": {
    "deletable": false,
    "editable": false,
    "nbgrader": {
     "checksum": "70ae52e0b59218beb836fce51729c08c",
     "grade": false,
     "grade_id": "cell-a054cad9cd6b9f22",
     "locked": true,
     "schema_version": 1,
     "solution": false
    }
   },
   "outputs": [
    {
     "data": {
      "text/html": [
       "1"
      ],
      "text/latex": [
       "1"
      ],
      "text/markdown": [
       "1"
      ],
      "text/plain": [
       "[1] 1"
      ]
     },
     "metadata": {},
     "output_type": "display_data"
    }
   ],
   "source": [
    "x <- 1  # assigns 1 to x\n",
    "x = 1   # same\n",
    "x  # returns the value of x"
   ]
  },
  {
   "cell_type": "markdown",
   "metadata": {
    "deletable": false,
    "editable": false,
    "nbgrader": {
     "checksum": "eaa54f1fd0e5a15cbf1907d907d3e263",
     "grade": false,
     "grade_id": "cell-dd5c03899f087e7d",
     "locked": true,
     "schema_version": 1,
     "solution": false
    }
   },
   "source": [
    "Use R to compute the square of 2018 and assign it to the variable ``a``:"
   ]
  },
  {
   "cell_type": "code",
   "execution_count": 19,
   "metadata": {
    "collapsed": true,
    "deletable": false,
    "nbgrader": {
     "checksum": "14ebc471f65d2998b5fec93122e0a2b9",
     "grade": false,
     "grade_id": "square_2018",
     "locked": false,
     "schema_version": 1,
     "solution": true
    }
   },
   "outputs": [],
   "source": [
    "a = 2018^2"
   ]
  },
  {
   "cell_type": "markdown",
   "metadata": {
    "deletable": false,
    "editable": false,
    "nbgrader": {
     "checksum": "e8d36a7da15c7a555fcbe85e64e92786",
     "grade": false,
     "grade_id": "cell-c059e5b10078a293",
     "locked": true,
     "schema_version": 1,
     "solution": false
    }
   },
   "source": [
    "The following code automatically checks whether you successfully entered the correct expression in the cell above:"
   ]
  },
  {
   "cell_type": "code",
   "execution_count": 20,
   "metadata": {
    "deletable": false,
    "editable": false,
    "nbgrader": {
     "checksum": "a3ee65bf96d363061c87b7ac36404957",
     "grade": true,
     "grade_id": "cell-6f32789fbf9998e8",
     "locked": true,
     "points": 1,
     "schema_version": 1,
     "solution": false
    }
   },
   "outputs": [],
   "source": [
    "stopifnot(a == 2018^2)"
   ]
  },
  {
   "cell_type": "markdown",
   "metadata": {
    "deletable": false,
    "editable": false,
    "nbgrader": {
     "checksum": "703d7f8723116e34fce72104d4e5fae6",
     "grade": false,
     "grade_id": "cell-50568ea8fa0d6aad",
     "locked": true,
     "schema_version": 1,
     "solution": false
    }
   },
   "source": [
    "## Functions\n",
    "Just like in mathematics, R uses functions to transform variables into new variables. You already saw some examples of functions above such as ``sin(x)``, ``exp(x)`` and ``print(...)``.\n",
    "\n",
    "To define your own function, use the syntax\n",
    "```{r}\n",
    "f = function(x) {\n",
    "    <do some stuff here>\n",
    "    return(<something>)\n",
    "}\n",
    "```\n",
    "This defines a function ``f`` which takes a single input ``x``. To evaluate this function for ``x=1`` we would input ``f(1)``. If you omit the ``return()`` statement, the function will return whatever value the final line of code produced.\n",
    "\n",
    "Here is a function which divides its input by two:"
   ]
  },
  {
   "cell_type": "code",
   "execution_count": 21,
   "metadata": {
    "deletable": false,
    "editable": false,
    "nbgrader": {
     "checksum": "c1bdbafa844632848a305ff2bd0dd393",
     "grade": false,
     "grade_id": "cell-9d0aae14ade587c5",
     "locked": true,
     "schema_version": 1,
     "solution": false
    }
   },
   "outputs": [
    {
     "data": {
      "text/html": [
       "2.5"
      ],
      "text/latex": [
       "2.5"
      ],
      "text/markdown": [
       "2.5"
      ],
      "text/plain": [
       "[1] 2.5"
      ]
     },
     "metadata": {},
     "output_type": "display_data"
    }
   ],
   "source": [
    "halve = function(x) { x / 2 }\n",
    "halve(5)"
   ]
  },
  {
   "cell_type": "markdown",
   "metadata": {},
   "source": [
    "Try defining a function ``square(x)`` which returns the square of ``x``."
   ]
  },
  {
   "cell_type": "code",
   "execution_count": 22,
   "metadata": {
    "deletable": false,
    "nbgrader": {
     "checksum": "c5c96cd3218f9b2c03db102a0aa2e338",
     "grade": false,
     "grade_id": "cell-9bcdca3d3959f4ae",
     "locked": false,
     "schema_version": 1,
     "solution": true
    }
   },
   "outputs": [
    {
     "data": {
      "text/html": [
       "16"
      ],
      "text/latex": [
       "16"
      ],
      "text/markdown": [
       "16"
      ],
      "text/plain": [
       "[1] 16"
      ]
     },
     "metadata": {},
     "output_type": "display_data"
    }
   ],
   "source": [
    "square = function(x) { x*x }\n",
    "square(4)"
   ]
  },
  {
   "cell_type": "code",
   "execution_count": 23,
   "metadata": {
    "deletable": false,
    "editable": false,
    "nbgrader": {
     "checksum": "cc8e6fb31856d7498722a26802fc1aa2",
     "grade": true,
     "grade_id": "cell-059988d5d6841003",
     "locked": true,
     "points": 1,
     "schema_version": 1,
     "solution": false
    }
   },
   "outputs": [],
   "source": [
    "stopifnot(identical(square(16), 256))"
   ]
  }
 ],
 "metadata": {
  "kernelspec": {
   "display_name": "R",
   "language": "R",
   "name": "ir"
  },
  "language_info": {
   "codemirror_mode": "r",
   "file_extension": ".r",
   "mimetype": "text/x-r-source",
   "name": "R",
   "pygments_lexer": "r",
   "version": "3.4.2"
  }
 },
 "nbformat": 4,
 "nbformat_minor": 2
}
