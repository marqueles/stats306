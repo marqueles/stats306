{
 "cells": [
  {
   "cell_type": "markdown",
   "metadata": {},
   "source": [
    "Before you turn this problem in, make sure everything runs as expected. First, **restart the kernel** (in the menubar, select Kernel$\\rightarrow$Restart) and then **run all cells** (in the menubar, select Cell$\\rightarrow$Run All). Your code should run from top to bottom with no errors. Failure to do this will result in loss of points.\n",
    "\n",
    "Make sure you fill in any place that says `YOUR CODE HERE` or \"YOUR ANSWER HERE\" and delete the `stop()` functions, as well as your name and collaborators below:"
   ]
  },
  {
   "cell_type": "code",
   "execution_count": 1,
   "metadata": {
    "collapsed": true
   },
   "outputs": [],
   "source": [
    "NAME = \"marcojim\"  # your uniqname \n",
    "COLLABORATORS = c()  # vector of uniqnames of your collaborators, if any\n",
    "## IMPORTANT: also enter your group information in Canvas when you upload the assignment"
   ]
  },
  {
   "cell_type": "markdown",
   "metadata": {},
   "source": [
    "---"
   ]
  },
  {
   "cell_type": "code",
   "execution_count": 2,
   "metadata": {
    "deletable": false,
    "editable": false,
    "nbgrader": {
     "checksum": "e351b81bbf2ecab2cd6b423a69226276",
     "grade": false,
     "grade_id": "cell-40012c87c1b26b65",
     "locked": true,
     "schema_version": 1,
     "solution": false
    }
   },
   "outputs": [
    {
     "name": "stderr",
     "output_type": "stream",
     "text": [
      "Warning message:\n",
      "\"package 'tidyverse' was built under R version 3.4.3\"-- Attaching packages --------------------------------------- tidyverse 1.2.1 --\n",
      "v ggplot2 2.2.1     v purrr   0.2.4\n",
      "v tibble  1.4.1     v dplyr   0.7.4\n",
      "v tidyr   0.7.2     v stringr 1.2.0\n",
      "v readr   1.1.1     v forcats 0.2.0\n",
      "Warning message:\n",
      "\"package 'ggplot2' was built under R version 3.4.3\"Warning message:\n",
      "\"package 'tibble' was built under R version 3.4.3\"Warning message:\n",
      "\"package 'tidyr' was built under R version 3.4.3\"Warning message:\n",
      "\"package 'readr' was built under R version 3.4.3\"Warning message:\n",
      "\"package 'purrr' was built under R version 3.4.3\"Warning message:\n",
      "\"package 'dplyr' was built under R version 3.4.3\"Warning message:\n",
      "\"package 'forcats' was built under R version 3.4.3\"-- Conflicts ------------------------------------------ tidyverse_conflicts() --\n",
      "x dplyr::filter() masks stats::filter()\n",
      "x dplyr::lag()    masks stats::lag()\n",
      "Warning message:\n",
      "\"package 'nycflights13' was built under R version 3.4.3\""
     ]
    }
   ],
   "source": [
    "library(tidyverse)\n",
    "library(nycflights13)"
   ]
  },
  {
   "cell_type": "markdown",
   "metadata": {
    "deletable": false,
    "editable": false,
    "nbgrader": {
     "checksum": "01e2b46cb46a18da4bff2513eaec7619",
     "grade": false,
     "grade_id": "cell-0a15f666d5386997",
     "locked": true,
     "schema_version": 1,
     "solution": false
    }
   },
   "source": [
    "# STATS 306\n",
    "## Problem set 2: data manipulation\n",
    "Each question is worth two points, for a total of 20. For each of these questions, start with the `flights` table in the `nycflights13` data set."
   ]
  },
  {
   "cell_type": "markdown",
   "metadata": {
    "deletable": false,
    "editable": false,
    "nbgrader": {
     "checksum": "595a316902248d8b585422959ee701a6",
     "grade": false,
     "grade_id": "cell-e917e583e70545d9",
     "locked": true,
     "schema_version": 1,
     "solution": false
    }
   },
   "source": [
    "#### Problem 1\n",
    "Use the `%in%` operator to extract all the flights that took place in months that begin with the letter \"J\". Store the resulting table in a variable called `table1`."
   ]
  },
  {
   "cell_type": "code",
   "execution_count": 3,
   "metadata": {
    "deletable": false,
    "nbgrader": {
     "checksum": "4c8893cc4980f0ae59221a42fcfce6a5",
     "grade": false,
     "grade_id": "cell-0b41d95c684e4bd1",
     "locked": false,
     "schema_version": 1,
     "solution": true
    }
   },
   "outputs": [
    {
     "name": "stderr",
     "output_type": "stream",
     "text": [
      "Warning message:\n",
      "\"package 'bindrcpp' was built under R version 3.4.3\""
     ]
    },
    {
     "name": "stdout",
     "output_type": "stream",
     "text": [
      "# A tibble: 84,672 x 19\n",
      "    year month   day dep_time sched_dep_time dep_delay arr_time sched_arr_time\n",
      "   <int> <int> <int>    <int>          <int>     <dbl>    <int>          <int>\n",
      " 1  2013     1     1      517            515      2.00      830            819\n",
      " 2  2013     1     1      533            529      4.00      850            830\n",
      " 3  2013     1     1      542            540      2.00      923            850\n",
      " 4  2013     1     1      544            545     -1.00     1004           1022\n",
      " 5  2013     1     1      554            600     -6.00      812            837\n",
      " 6  2013     1     1      554            558     -4.00      740            728\n",
      " 7  2013     1     1      555            600     -5.00      913            854\n",
      " 8  2013     1     1      557            600     -3.00      709            723\n",
      " 9  2013     1     1      557            600     -3.00      838            846\n",
      "10  2013     1     1      558            600     -2.00      753            745\n",
      "# ... with 84,662 more rows, and 11 more variables: arr_delay <dbl>, carrier\n",
      "#   <chr>, flight <int>, tailnum <chr>, origin <chr>, dest <chr>, air_time\n",
      "#   <dbl>, distance <dbl>, hour <dbl>, minute <dbl>, time_hour <dttm>\n"
     ]
    }
   ],
   "source": [
    "table1 = filter(flights,month %in% c(1,6,7))\n",
    "print(table1)"
   ]
  },
  {
   "cell_type": "code",
   "execution_count": 4,
   "metadata": {
    "collapsed": true,
    "deletable": false,
    "editable": false,
    "nbgrader": {
     "checksum": "5f7d59887fc9bb61c11f2c551b2cfeda",
     "grade": true,
     "grade_id": "cell-4401a25049f26a23",
     "locked": true,
     "points": 2,
     "schema_version": 1,
     "solution": false
    }
   },
   "outputs": [],
   "source": [
    "stopifnot(exists(\"table1\"))"
   ]
  },
  {
   "cell_type": "markdown",
   "metadata": {
    "deletable": false,
    "editable": false,
    "nbgrader": {
     "checksum": "6fe84f4de31467846ab791e69c4a92ed",
     "grade": false,
     "grade_id": "cell-9ac80283329274c5",
     "locked": true,
     "schema_version": 1,
     "solution": false
    }
   },
   "source": [
    "#### Problem 2\n",
    "Find the number of United Airlines flights that departed exactly on time and arrived exactly on time. Store this number in a variable called `n2`."
   ]
  },
  {
   "cell_type": "code",
   "execution_count": 5,
   "metadata": {
    "deletable": false,
    "nbgrader": {
     "checksum": "aab9ce20be6196dcfcc0b052a924e593",
     "grade": false,
     "grade_id": "cell-b4e20676a15c90bf",
     "locked": false,
     "schema_version": 1,
     "solution": true
    }
   },
   "outputs": [
    {
     "name": "stdout",
     "output_type": "stream",
     "text": [
      "# A tibble: 58 x 3\n",
      "   carrier dep_delay arr_delay\n",
      "   <chr>       <dbl>     <dbl>\n",
      " 1 UA              0         0\n",
      " 2 UA              0         0\n",
      " 3 UA              0         0\n",
      " 4 UA              0         0\n",
      " 5 UA              0         0\n",
      " 6 UA              0         0\n",
      " 7 UA              0         0\n",
      " 8 UA              0         0\n",
      " 9 UA              0         0\n",
      "10 UA              0         0\n",
      "# ... with 48 more rows\n"
     ]
    }
   ],
   "source": [
    "n2 = filter(flights, carrier == \"UA\" & dep_delay==0 & arr_delay==0)\n",
    "print(select(n2,carrier,dep_delay,arr_delay))\n",
    "\n"
   ]
  },
  {
   "cell_type": "code",
   "execution_count": 6,
   "metadata": {
    "collapsed": true,
    "deletable": false,
    "editable": false,
    "nbgrader": {
     "checksum": "4a74b27f73eb8c6d0fc2efc1728f75b5",
     "grade": true,
     "grade_id": "cell-4236c431743e934f",
     "locked": true,
     "points": 2,
     "schema_version": 1,
     "solution": false
    }
   },
   "outputs": [],
   "source": [
    "stopifnot(exists(\"n2\"))"
   ]
  },
  {
   "cell_type": "markdown",
   "metadata": {
    "deletable": false,
    "editable": false,
    "nbgrader": {
     "checksum": "76b3f2e99d98da5024e550d24526bbc0",
     "grade": false,
     "grade_id": "cell-d5ff2b32d11b0d6b",
     "locked": true,
     "schema_version": 1,
     "solution": false
    }
   },
   "source": [
    "#### Problem 3\n",
    "Find all flights destined for `LAX` or `SFO` which departed more than an hour late, but did not arrive late. Store this table in a variable called `table3`."
   ]
  },
  {
   "cell_type": "code",
   "execution_count": 7,
   "metadata": {
    "deletable": false,
    "nbgrader": {
     "checksum": "ded3c60fdab8374e26918c1636ae35c5",
     "grade": false,
     "grade_id": "cell-2b49a3cf31114989",
     "locked": false,
     "schema_version": 1,
     "solution": true
    }
   },
   "outputs": [],
   "source": [
    "filter(flights, dest==\"LAX\"|dest==\"SFO\") %>% filter(dep_delay>60 & arr_delay<=0) -> table3"
   ]
  },
  {
   "cell_type": "code",
   "execution_count": 8,
   "metadata": {
    "collapsed": true,
    "deletable": false,
    "editable": false,
    "nbgrader": {
     "checksum": "bcad9992108234bcb8090892c796344f",
     "grade": true,
     "grade_id": "cell-51c64b0ec74b8e7e",
     "locked": true,
     "points": 2,
     "schema_version": 1,
     "solution": false
    }
   },
   "outputs": [],
   "source": [
    "stopifnot(exists(\"table3\"))"
   ]
  },
  {
   "cell_type": "markdown",
   "metadata": {
    "deletable": false,
    "editable": false,
    "nbgrader": {
     "checksum": "5a6fa4699c2925c1eff9265c2c38e0b1",
     "grade": false,
     "grade_id": "cell-995747474fc3c057",
     "locked": true,
     "schema_version": 1,
     "solution": false
    }
   },
   "source": [
    "#### Problem 4\n",
    "Find the number of flights in May that are missing their departure time or their arrival time, but not both. Store this number in a variable called `n4`."
   ]
  },
  {
   "cell_type": "code",
   "execution_count": 9,
   "metadata": {
    "deletable": false,
    "nbgrader": {
     "checksum": "790df095b50a4f8fd7dc5b7b5934f871",
     "grade": false,
     "grade_id": "cell-3a11c09dd271ccca",
     "locked": false,
     "schema_version": 1,
     "solution": true
    }
   },
   "outputs": [
    {
     "name": "stdout",
     "output_type": "stream",
     "text": [
      "# A tibble: 38 x 3\n",
      "   month dep_time arr_time\n",
      "   <int>    <int>    <int>\n",
      " 1     5     1121       NA\n",
      " 2     5     2131       NA\n",
      " 3     5      822       NA\n",
      " 4     5     1805       NA\n",
      " 5     5      649       NA\n",
      " 6     5     1950       NA\n",
      " 7     5     1505       NA\n",
      " 8     5     1829       NA\n",
      " 9     5     1951       NA\n",
      "10     5     1625       NA\n",
      "# ... with 28 more rows\n"
     ]
    }
   ],
   "source": [
    "filter(flights,is.na(dep_time) | is.na(arr_time)) %>% filter(!is.na(dep_time) | !is.na(arr_time)) %>% filter(month==5) -> n4\n",
    "print(select(n4,month,dep_time,arr_time))"
   ]
  },
  {
   "cell_type": "code",
   "execution_count": 10,
   "metadata": {
    "collapsed": true,
    "deletable": false,
    "editable": false,
    "nbgrader": {
     "checksum": "a769db74374c01bec298b2f31bf11560",
     "grade": true,
     "grade_id": "cell-12d7a10870a90e20",
     "locked": true,
     "points": 2,
     "schema_version": 1,
     "solution": false
    }
   },
   "outputs": [],
   "source": [
    "stopifnot(exists(\"n4\"))"
   ]
  },
  {
   "cell_type": "markdown",
   "metadata": {
    "deletable": false,
    "editable": false,
    "nbgrader": {
     "checksum": "b398fa498949cb932c83812839aec48c",
     "grade": false,
     "grade_id": "cell-61acec7ea7dcc769",
     "locked": true,
     "schema_version": 1,
     "solution": false
    }
   },
   "source": [
    "#### Problem 5\n",
    "There are four flights which have a tail number that does not begin with the letter \"N\". Find those rows and store them in a variable called `table5`. (*Hint*: see the help for the `str_sub()` command.)"
   ]
  },
  {
   "cell_type": "code",
   "execution_count": 11,
   "metadata": {
    "deletable": false,
    "nbgrader": {
     "checksum": "70958f6946870d7e29ffe975814fd9a6",
     "grade": false,
     "grade_id": "cell-b8021dd6e2dc9b4f",
     "locked": false,
     "schema_version": 1,
     "solution": true
    }
   },
   "outputs": [
    {
     "name": "stdout",
     "output_type": "stream",
     "text": [
      "# A tibble: 4 x 1\n",
      "  tailnum\n",
      "  <chr>  \n",
      "1 D942DN \n",
      "2 D942DN \n",
      "3 D942DN \n",
      "4 D942DN \n"
     ]
    }
   ],
   "source": [
    "table5 = filter(flights, substr(tailnum,0,1) != \"N\")\n",
    "print(select(table5,tailnum))"
   ]
  },
  {
   "cell_type": "code",
   "execution_count": 12,
   "metadata": {
    "collapsed": true,
    "deletable": false,
    "editable": false,
    "nbgrader": {
     "checksum": "f50996d83088c3b9fcbbf6dc8fffd537",
     "grade": true,
     "grade_id": "cell-ffe2349f55b5dba2",
     "locked": true,
     "points": 2,
     "schema_version": 1,
     "solution": false
    }
   },
   "outputs": [],
   "source": [
    "stopifnot(exists(\"table5\"))"
   ]
  },
  {
   "cell_type": "markdown",
   "metadata": {
    "deletable": false,
    "editable": false,
    "nbgrader": {
     "checksum": "9652762e1aa3496e5d12ab92d3171b58",
     "grade": false,
     "grade_id": "cell-771ce94db8191a27",
     "locked": true,
     "schema_version": 1,
     "solution": false
    }
   },
   "source": [
    "#### Problem 6\n",
    "Find the tail number of the flights that were in the air for the shortest and longest amounts of time. Store them in variables `shortest_tail_num` and `longest_tail_num`, respectively."
   ]
  },
  {
   "cell_type": "code",
   "execution_count": 13,
   "metadata": {
    "deletable": false,
    "nbgrader": {
     "checksum": "b00ae85159f28e68cf6d3273604566ff",
     "grade": false,
     "grade_id": "cell-b660c7d391a51d16",
     "locked": false,
     "schema_version": 1,
     "solution": true
    }
   },
   "outputs": [
    {
     "name": "stdout",
     "output_type": "stream",
     "text": [
      "# A tibble: 2 x 2\n",
      "  tailnum air_time\n",
      "  <chr>      <dbl>\n",
      "1 N16911      20.0\n",
      "2 N12167      20.0\n",
      "[1] \"N16911\" \"N12167\"\n",
      "# A tibble: 1 x 2\n",
      "  tailnum air_time\n",
      "  <chr>      <dbl>\n",
      "1 N77066       695\n",
      "[1] \"N77066\"\n"
     ]
    }
   ],
   "source": [
    "\n",
    "shortest_tail_num =  filter(flights,air_time==min(flights$air_time, na.rm=TRUE)) %>% select(tailnum,air_time) %>% print\n",
    "shortest_tail_num = shortest_tail_num$tailnum %>% print\n",
    "longest_tail_num = filter(flights,air_time==max(flights$air_time, na.rm=TRUE)) %>% select(tailnum,air_time) %>% print\n",
    "longest_tail_num = longest_tail_num$tailnum %>% print\n",
    "# YOUR CODE HERE\n"
   ]
  },
  {
   "cell_type": "code",
   "execution_count": 14,
   "metadata": {
    "collapsed": true,
    "deletable": false,
    "editable": false,
    "nbgrader": {
     "checksum": "a636417b70fedad15d77eca2d65955e0",
     "grade": true,
     "grade_id": "cell-f2aaa2fc80bca528",
     "locked": true,
     "points": 2,
     "schema_version": 1,
     "solution": false
    }
   },
   "outputs": [],
   "source": [
    "stopifnot(exists(\"shortest_tail_num\"))\n",
    "stopifnot(exists(\"longest_tail_num\"))"
   ]
  },
  {
   "cell_type": "markdown",
   "metadata": {
    "deletable": false,
    "editable": false,
    "nbgrader": {
     "checksum": "5cf2977f0577eb0d5ad9d1c873dffc36",
     "grade": false,
     "grade_id": "cell-8f74fbd6cd39b361",
     "locked": true,
     "schema_version": 1,
     "solution": false
    }
   },
   "source": [
    "#### Problem 7\n",
    "Sort the rows of `flights` such that the months are arranged in the following order: spring, summer, fall, winter. (Here we define winter to be January-March, spring is April-June, etc.) Within each season, the months should be sorted in ascending order. After sorting, drop all columns except for month, day and tail number. Store the sorted and subsetted table in a variable called `table7`."
   ]
  },
  {
   "cell_type": "code",
   "execution_count": 15,
   "metadata": {
    "deletable": false,
    "nbgrader": {
     "checksum": "209e1d67411f544abb4d2f3e50f72801",
     "grade": false,
     "grade_id": "cell-5f14c5b25556af81",
     "locked": false,
     "schema_version": 1,
     "solution": true
    }
   },
   "outputs": [
    {
     "name": "stdout",
     "output_type": "stream",
     "text": [
      "# A tibble: 336,776 x 3\n",
      "   month   day tailnum\n",
      "   <int> <int> <chr>  \n",
      " 1     4     1 N566UW \n",
      " 2     4     1 N76288 \n",
      " 3     4     1 N76517 \n",
      " 4     4     1 N5DSAA \n",
      " 5     4     1 N784JB \n",
      " 6     4     1 N590JB \n",
      " 7     4     1 N737US \n",
      " 8     4     1 N750UW \n",
      " 9     4     1 N510MQ \n",
      "10     4     1 N723EV \n",
      "# ... with 336,766 more rows\n"
     ]
    }
   ],
   "source": [
    "get_season = function(a){\n",
    "    sapply(a,function(a){\n",
    "        if(a<4){\n",
    "            return(\"winter\")\n",
    "        }else if(a<7){\n",
    "            return(\"spring\")\n",
    "        }else if(a<10){\n",
    "            return(\"summer\")\n",
    "        }else{\n",
    "            return(\"fall\")\n",
    "        }\n",
    "})}\n",
    "table7 <- flights\n",
    "\n",
    "table7 <- mutate(table7, season = get_season(month))\n",
    "table7$season <- factor(table7$season, levels = c(\"spring\",\"summer\",\"fall\",\"winter\") )\n",
    "table7 <- arrange(table7,season,month)\n",
    "table7 <- select(table7,month,day,tailnum) %>% print\n"
   ]
  },
  {
   "cell_type": "code",
   "execution_count": 16,
   "metadata": {
    "collapsed": true,
    "deletable": false,
    "editable": false,
    "nbgrader": {
     "checksum": "09ce5521510431404988a01608b3d982",
     "grade": true,
     "grade_id": "cell-aea49f381577fe9c",
     "locked": true,
     "points": 2,
     "schema_version": 1,
     "solution": false
    }
   },
   "outputs": [],
   "source": [
    "stopifnot(exists(\"table7\"))"
   ]
  },
  {
   "cell_type": "markdown",
   "metadata": {
    "deletable": false,
    "editable": false,
    "nbgrader": {
     "checksum": "c4e9559505243e8118430b06b75b49e2",
     "grade": false,
     "grade_id": "cell-c34c122012defa7c",
     "locked": true,
     "schema_version": 1,
     "solution": false
    }
   },
   "source": [
    "#### Problem 8\n",
    "Drop the even-numbered columns of `flights`. Store the resulting data table in a variable called `table8`."
   ]
  },
  {
   "cell_type": "code",
   "execution_count": 17,
   "metadata": {
    "deletable": false,
    "nbgrader": {
     "checksum": "07fd7c5ad2bb6c096ec411803fb1bc6f",
     "grade": false,
     "grade_id": "cell-fea29f526205142f",
     "locked": false,
     "schema_version": 1,
     "solution": true
    }
   },
   "outputs": [
    {
     "ename": "ERROR",
     "evalue": "Error in select(table8, seq(1, ncol(table8), by = 2)): object 'table8' not found\n",
     "output_type": "error",
     "traceback": [
      "Error in select(table8, seq(1, ncol(table8), by = 2)): object 'table8' not found\nTraceback:\n",
      "1. select(table8, seq(1, ncol(table8), by = 2)) %>% print",
      "2. eval(lhs, parent, parent)",
      "3. eval(lhs, parent, parent)",
      "4. select(table8, seq(1, ncol(table8), by = 2))"
     ]
    }
   ],
   "source": [
    "table8 <- select(table8,seq(1,ncol(table8),by = 2)) %>% print"
   ]
  },
  {
   "cell_type": "code",
   "execution_count": null,
   "metadata": {
    "collapsed": true,
    "deletable": false,
    "editable": false,
    "nbgrader": {
     "checksum": "17f7fdd65fd0f36043a8a444a28a6a56",
     "grade": true,
     "grade_id": "cell-0ed42800dec43812",
     "locked": true,
     "points": 2,
     "schema_version": 1,
     "solution": false
    }
   },
   "outputs": [],
   "source": [
    "stopifnot(exists(\"table8\"))"
   ]
  },
  {
   "cell_type": "markdown",
   "metadata": {
    "deletable": false,
    "editable": false,
    "nbgrader": {
     "checksum": "f7619296173bbecb7d7a0d35f9621cd6",
     "grade": false,
     "grade_id": "cell-6f2ea6c3248058f4",
     "locked": true,
     "schema_version": 1,
     "solution": false
    }
   },
   "source": [
    "#### Problem 9\n",
    "Define a function `pick_columns` which accepts a vector `v` and returns a data table consisting of all of the columns in `flights` whose names are found in `v`. The skeleton of the function has been provided for you."
   ]
  },
  {
   "cell_type": "code",
   "execution_count": null,
   "metadata": {
    "deletable": false,
    "nbgrader": {
     "checksum": "5c9d441414db699478d190e2a23a6123",
     "grade": false,
     "grade_id": "cell-969a7e5111107d00",
     "locked": false,
     "schema_version": 1,
     "solution": true
    }
   },
   "outputs": [],
   "source": [
    "pick_columns = function(v) {\n",
    "    ret = select(flights,v)\n",
    "    return(ret)\n",
    "}\n",
    "vec = c(\"month\",\"year\")\n",
    "print(pick_columns(vec))"
   ]
  },
  {
   "cell_type": "code",
   "execution_count": null,
   "metadata": {
    "collapsed": true,
    "deletable": false,
    "editable": false,
    "nbgrader": {
     "checksum": "de382834ae9b2ca940b845d1fa95e99f",
     "grade": true,
     "grade_id": "cell-a6648e20d6336d21",
     "locked": true,
     "points": 2,
     "schema_version": 1,
     "solution": false
    }
   },
   "outputs": [],
   "source": [
    "stopifnot(exists(\"pick_columns\"))"
   ]
  },
  {
   "cell_type": "markdown",
   "metadata": {
    "deletable": false,
    "editable": false,
    "nbgrader": {
     "checksum": "6bf970bcec44c0802c995ef7b23b5f1f",
     "grade": false,
     "grade_id": "cell-7606bce27a96f05b",
     "locked": true,
     "schema_version": 1,
     "solution": false
    }
   },
   "source": [
    "#### Problem 10\n",
    "Select all the columns in flights which end with \"delay\". In the resulting table, define a new column `max_delay` which equals the maximum of the departure and arrival delays for each flight. For example, if a flight had a departure delay of `-1` and an arrival delay of `10`, the `max_delay` would equal `10`.\n",
    "Store this table in a variable called `table10`."
   ]
  },
  {
   "cell_type": "code",
   "execution_count": null,
   "metadata": {
    "deletable": false,
    "nbgrader": {
     "checksum": "b461022c1eb7aefa8b5d954cfc453462",
     "grade": false,
     "grade_id": "cell-6728c9ad4bc8d1d3",
     "locked": false,
     "schema_version": 1,
     "solution": true
    }
   },
   "outputs": [],
   "source": [
    "table10 = select(flights,ends_with(\"delay\")) %>% mutate(max_delay = pmax(arr_delay,dep_delay)) %>% print"
   ]
  },
  {
   "cell_type": "code",
   "execution_count": null,
   "metadata": {
    "collapsed": true,
    "deletable": false,
    "editable": false,
    "nbgrader": {
     "checksum": "37b54b4b05c6d09e3ef88014c9b5cf2a",
     "grade": true,
     "grade_id": "cell-c5a73822944474d1",
     "locked": true,
     "points": 2,
     "schema_version": 1,
     "solution": false
    }
   },
   "outputs": [],
   "source": [
    "stopifnot(exists(\"table10\"))"
   ]
  }
 ],
 "metadata": {
  "kernelspec": {
   "display_name": "R",
   "language": "R",
   "name": "ir"
  },
  "language_info": {
   "codemirror_mode": "r",
   "file_extension": ".r",
   "mimetype": "text/x-r-source",
   "name": "R",
   "pygments_lexer": "r",
   "version": "3.4.2"
  }
 },
 "nbformat": 4,
 "nbformat_minor": 2
}
